{
 "cells": [
  {
   "cell_type": "code",
   "execution_count": 35,
   "id": "fb146803",
   "metadata": {},
   "outputs": [
    {
     "data": {
      "text/plain": [
       "'\\n! Question 2: IMDB Top 1000 Regression\\n\\n* This notebook will:\\n1. Drop unneeded columns form the imdb_top_1000_New.csv dataset.\\n2. Predict IMDB_Rating using Released_Year, Runtime2, No_of_Votes, Gross, Genre with train/test split and 5-fold CV, then evaluate RMSE and reliability.\\n3. Repeat prediction to predict Gross as the target.\\n4. Treat Released_Year as a regression target and repeat modeling, then report RMSE,\\n'"
      ]
     },
     "execution_count": 35,
     "metadata": {},
     "output_type": "execute_result"
    }
   ],
   "source": [
    "\"\"\"\n",
    "! Question 2: IMDB Top 1000 Regression\n",
    "\n",
    "* This notebook will:\n",
    "1. Drop unneeded columns form the imdb_top_1000_New.csv dataset.\n",
    "2. Predict IMDB_Rating using Released_Year, Runtime2, No_of_Votes, Gross, Genre with train/test split and 5-fold CV, then evaluate RMSE and reliability.\n",
    "3. Repeat prediction to predict Gross as the target.\n",
    "4. Treat Released_Year as a regression target and repeat modeling, then report RMSE,\n",
    "\"\"\""
   ]
  },
  {
   "cell_type": "code",
   "execution_count": null,
   "id": "96cb403b",
   "metadata": {},
   "outputs": [
    {
     "name": "stdout",
     "output_type": "stream",
     "text": [
      "Index(['Released_Year', 'Runtime2', 'Genre', 'IMDB_Rating', 'No_of_Votes',\n",
      "       'Gross'],\n",
      "      dtype='object')\n"
     ]
    }
   ],
   "source": [
    "\"\"\"\n",
    "! Part A: Data Preparation\n",
    "\"\"\"\n",
    "\n",
    "import pandas as pd\n",
    "import numpy as np\n",
    "from sklearn.model_selection import train_test_split, cross_val_score, KFold\n",
    "from sklearn.linear_model import LinearRegression\n",
    "from sklearn.tree import DecisionTreeRegressor\n",
    "from sklearn.ensemble import RandomForestRegressor\n",
    "from sklearn.metrics import mean_squared_error\n",
    "\n",
    "# * Load the dataset\n",
    "df = pd.read_csv('./res/imdb_top_1000_New.csv')\n",
    "\n",
    "# ? Drop unneeded columns\n",
    "df.drop(columns=['Series_Title', 'Certificate', 'Runtime'], inplace=True)\n",
    "\n",
    "# * Inspect columns\n",
    "print(df.columns)"
   ]
  },
  {
   "cell_type": "code",
   "execution_count": null,
   "id": "955060bc",
   "metadata": {},
   "outputs": [
    {
     "name": "stdout",
     "output_type": "stream",
     "text": [
      "Linear Regression: CV RMSE = 0.22, Test RMSE = 0.20\n",
      "Decision Tree: CV RMSE = 0.27, Test RMSE = 0.25\n",
      "Random Forest: CV RMSE = 0.20, Test RMSE = 0.20\n",
      "Overall RMSE: 0.20\n",
      "The model is reliable.\n",
      "Overall Reliability: 2.47%\n",
      "Variance Explained: 48.28%\n"
     ]
    },
    {
     "data": {
      "application/vnd.microsoft.datawrangler.viewer.v0+json": {
       "columns": [
        {
         "name": "index",
         "rawType": "object",
         "type": "string"
        },
        {
         "name": "CV_RMSE",
         "rawType": "float64",
         "type": "float"
        },
        {
         "name": "Test_RMSE",
         "rawType": "float64",
         "type": "float"
        }
       ],
       "conversionMethod": "pd.DataFrame",
       "ref": "560c42ac-bbec-4262-a9bb-a7f1e8d26917",
       "rows": [
        [
         "Linear Regression",
         "0.21786949468798392",
         "0.1968295423406885"
        ],
        [
         "Decision Tree",
         "0.26564720957699894",
         "0.25140489233406493"
        ],
        [
         "Random Forest",
         "0.19996740513120656",
         "0.19572687871042035"
        ]
       ],
       "shape": {
        "columns": 2,
        "rows": 3
       }
      },
      "text/html": [
       "<div>\n",
       "<style scoped>\n",
       "    .dataframe tbody tr th:only-of-type {\n",
       "        vertical-align: middle;\n",
       "    }\n",
       "\n",
       "    .dataframe tbody tr th {\n",
       "        vertical-align: top;\n",
       "    }\n",
       "\n",
       "    .dataframe thead th {\n",
       "        text-align: right;\n",
       "    }\n",
       "</style>\n",
       "<table border=\"1\" class=\"dataframe\">\n",
       "  <thead>\n",
       "    <tr style=\"text-align: right;\">\n",
       "      <th></th>\n",
       "      <th>CV_RMSE</th>\n",
       "      <th>Test_RMSE</th>\n",
       "    </tr>\n",
       "  </thead>\n",
       "  <tbody>\n",
       "    <tr>\n",
       "      <th>Linear Regression</th>\n",
       "      <td>0.217869</td>\n",
       "      <td>0.196830</td>\n",
       "    </tr>\n",
       "    <tr>\n",
       "      <th>Decision Tree</th>\n",
       "      <td>0.265647</td>\n",
       "      <td>0.251405</td>\n",
       "    </tr>\n",
       "    <tr>\n",
       "      <th>Random Forest</th>\n",
       "      <td>0.199967</td>\n",
       "      <td>0.195727</td>\n",
       "    </tr>\n",
       "  </tbody>\n",
       "</table>\n",
       "</div>"
      ],
      "text/plain": [
       "                    CV_RMSE  Test_RMSE\n",
       "Linear Regression  0.217869   0.196830\n",
       "Decision Tree      0.265647   0.251405\n",
       "Random Forest      0.199967   0.195727"
      ]
     },
     "execution_count": 55,
     "metadata": {},
     "output_type": "execute_result"
    }
   ],
   "source": [
    "\"\"\"\n",
    "! Part B: Predict IMDB_Rating\n",
    "\n",
    "? Based on the overall RMSE, do you think the model is reliable?\n",
    "* The model is reliable because the overall RMSE is low (0.2), with a variance of 48% between x and y tests.\n",
    "\"\"\"\n",
    "\n",
    "# * Define features and target variable\n",
    "target = 'IMDB_Rating'\n",
    "features = ['Released_Year', 'Runtime2', 'No_of_Votes', 'Gross', 'Genre']\n",
    "X = pd.get_dummies(df[features], drop_first=True)\n",
    "y = df[target]\n",
    "\n",
    "\n",
    "# ? Train-test split\n",
    "X_train, X_test, y_train, y_test = train_test_split(X, y, test_size=0.2, random_state=42)\n",
    "\n",
    "# * 5-Fold CV RMSE\n",
    "def cv_rmse(model):\n",
    "    scores = cross_val_score(model, X_train, y_train, cv=KFold(n_splits=5, shuffle=True, random_state=42), scoring='neg_root_mean_squared_error')\n",
    "    return -scores.mean()\n",
    "\n",
    "# * Models to evaluate\n",
    "models = {\n",
    "    'Linear Regression': LinearRegression(),\n",
    "    'Decision Tree': DecisionTreeRegressor(random_state=42),\n",
    "    'Random Forest': RandomForestRegressor(random_state=42)\n",
    "}\n",
    "\n",
    "# * Evaluate models\n",
    "results = {}\n",
    "for name, model in models.items():\n",
    "    cv_score = cv_rmse(model)\n",
    "    model.fit(X_train, y_train)\n",
    "    preds = model.predict(X_test)\n",
    "    rmse = np.sqrt(mean_squared_error(y_test, preds))\n",
    "    results[name] = {'CV_RMSE': cv_score, 'Test_RMSE': rmse}\n",
    "    print(f\"{name}: CV RMSE = {cv_score:.2f}, Test RMSE = {rmse:.2f}\")\n",
    "\n",
    "# ! Overall RMSE\n",
    "overall_rmse = np.sqrt(mean_squared_error(y_test, preds))\n",
    "print(f\"Overall RMSE: {overall_rmse:.2f}\")\n",
    "\n",
    "# ? Reliability\n",
    "if overall_rmse < 1:\n",
    "    print(\"The model is reliable.\")\n",
    "    # Print % divide by the mean of y\n",
    "    print(f\"Overall Reliability: {(overall_rmse / np.mean(y_test)) * 100:.2f}%\")\n",
    "    # Print % for variance explained\n",
    "    print(f\"Variance Explained: {model.score(X_test, y_test) * 100:.2f}%\")\n",
    "else:\n",
    "    print(\"The model is not reliable.\")\n",
    "    \n",
    "# * Convert results to DataFrame for better visualization\n",
    "pd.DataFrame(results).T"
   ]
  },
  {
   "cell_type": "code",
   "execution_count": null,
   "id": "20ec17aa",
   "metadata": {},
   "outputs": [
    {
     "name": "stdout",
     "output_type": "stream",
     "text": [
      "Linear Regression: CV RMSE = 85408312.83, Test RMSE = 72263191.92\n",
      "Decision Tree: CV RMSE = 102112298.90, Test RMSE = 93899967.58\n",
      "Random Forest: CV RMSE = 81774353.15, Test RMSE = 63295143.28\n",
      "Overall RMSE: 63295143.28\n",
      "The model is not reliable.\n"
     ]
    },
    {
     "data": {
      "application/vnd.microsoft.datawrangler.viewer.v0+json": {
       "columns": [
        {
         "name": "index",
         "rawType": "object",
         "type": "string"
        },
        {
         "name": "CV_RMSE",
         "rawType": "float64",
         "type": "float"
        },
        {
         "name": "Test_RMSE",
         "rawType": "float64",
         "type": "float"
        }
       ],
       "conversionMethod": "pd.DataFrame",
       "ref": "a4c968f9-bb84-420d-aa52-99c7d7ee7993",
       "rows": [
        [
         "Linear Regression",
         "85408312.82942986",
         "72263191.92211206"
        ],
        [
         "Decision Tree",
         "102112298.90132393",
         "93899967.58004655"
        ],
        [
         "Random Forest",
         "81774353.14685783",
         "63295143.27639093"
        ]
       ],
       "shape": {
        "columns": 2,
        "rows": 3
       }
      },
      "text/html": [
       "<div>\n",
       "<style scoped>\n",
       "    .dataframe tbody tr th:only-of-type {\n",
       "        vertical-align: middle;\n",
       "    }\n",
       "\n",
       "    .dataframe tbody tr th {\n",
       "        vertical-align: top;\n",
       "    }\n",
       "\n",
       "    .dataframe thead th {\n",
       "        text-align: right;\n",
       "    }\n",
       "</style>\n",
       "<table border=\"1\" class=\"dataframe\">\n",
       "  <thead>\n",
       "    <tr style=\"text-align: right;\">\n",
       "      <th></th>\n",
       "      <th>CV_RMSE</th>\n",
       "      <th>Test_RMSE</th>\n",
       "    </tr>\n",
       "  </thead>\n",
       "  <tbody>\n",
       "    <tr>\n",
       "      <th>Linear Regression</th>\n",
       "      <td>8.540831e+07</td>\n",
       "      <td>7.226319e+07</td>\n",
       "    </tr>\n",
       "    <tr>\n",
       "      <th>Decision Tree</th>\n",
       "      <td>1.021123e+08</td>\n",
       "      <td>9.389997e+07</td>\n",
       "    </tr>\n",
       "    <tr>\n",
       "      <th>Random Forest</th>\n",
       "      <td>8.177435e+07</td>\n",
       "      <td>6.329514e+07</td>\n",
       "    </tr>\n",
       "  </tbody>\n",
       "</table>\n",
       "</div>"
      ],
      "text/plain": [
       "                        CV_RMSE     Test_RMSE\n",
       "Linear Regression  8.540831e+07  7.226319e+07\n",
       "Decision Tree      1.021123e+08  9.389997e+07\n",
       "Random Forest      8.177435e+07  6.329514e+07"
      ]
     },
     "execution_count": 63,
     "metadata": {},
     "output_type": "execute_result"
    }
   ],
   "source": [
    "\"\"\"\n",
    "! Part C: Predict Gross\n",
    "\n",
    "* An RMSE of 63 million on a mean Gross of ~80 million (i.e. ~78% error) is far too large, so none of these regression models are reliable for predicting Gross in its raw scale\n",
    "\"\"\"\n",
    "\n",
    "# * Define features and target variable for Gross prediction\n",
    "target = 'Gross'\n",
    "features_gross = ['Released_Year', 'Runtime2', 'No_of_Votes', 'Genre']\n",
    "X = pd.get_dummies(df[features_gross], drop_first=True)\n",
    "y = df[target]\n",
    "\n",
    "# ? Train-test split\n",
    "X_train, X_test, y_train, y_test = train_test_split(X, y, test_size=0.2, random_state=42)\n",
    "\n",
    "# * Evaluate models\n",
    "results2 = {}\n",
    "for name, model in models.items():\n",
    "    cv_score = cv_rmse(model)\n",
    "    model.fit(X_train, y_train)\n",
    "    preds = model.predict(X_test)\n",
    "    rmse = np.sqrt(mean_squared_error(y_test, preds))\n",
    "    results2[name] = {'CV_RMSE': cv_score, 'Test_RMSE': rmse}\n",
    "    print(f\"{name}: CV RMSE = {cv_score:.2f}, Test RMSE = {rmse:.2f}\")\n",
    "    \n",
    "# ! Overall RMSE\n",
    "overall_rmse = np.sqrt(mean_squared_error(y_test, preds))\n",
    "print(f\"Overall RMSE: {overall_rmse:.2f}\")\n",
    "    \n",
    "# * Convert results to DataFrame for better visualization\n",
    "pd.DataFrame(results2).T\n",
    "\n"
   ]
  },
  {
   "cell_type": "code",
   "execution_count": 64,
   "id": "1c0e1091",
   "metadata": {},
   "outputs": [
    {
     "name": "stdout",
     "output_type": "stream",
     "text": [
      "Linear Regression: CV RMSE = 21.12, Test RMSE = 20.65\n",
      "Decision Tree: CV RMSE = 26.86, Test RMSE = 25.14\n",
      "Random Forest: CV RMSE = 19.98, Test RMSE = 19.75\n"
     ]
    },
    {
     "data": {
      "application/vnd.microsoft.datawrangler.viewer.v0+json": {
       "columns": [
        {
         "name": "index",
         "rawType": "object",
         "type": "string"
        },
        {
         "name": "CV_RMSE",
         "rawType": "float64",
         "type": "float"
        },
        {
         "name": "Test_RMSE",
         "rawType": "float64",
         "type": "float"
        }
       ],
       "conversionMethod": "pd.DataFrame",
       "ref": "d2a49404-c521-482c-93d2-196a07d4a0e2",
       "rows": [
        [
         "Linear Regression",
         "21.120425330544872",
         "20.647684609724607"
        ],
        [
         "Decision Tree",
         "26.858014321037324",
         "25.139829946198063"
        ],
        [
         "Random Forest",
         "19.977993148398063",
         "19.751346034276903"
        ]
       ],
       "shape": {
        "columns": 2,
        "rows": 3
       }
      },
      "text/html": [
       "<div>\n",
       "<style scoped>\n",
       "    .dataframe tbody tr th:only-of-type {\n",
       "        vertical-align: middle;\n",
       "    }\n",
       "\n",
       "    .dataframe tbody tr th {\n",
       "        vertical-align: top;\n",
       "    }\n",
       "\n",
       "    .dataframe thead th {\n",
       "        text-align: right;\n",
       "    }\n",
       "</style>\n",
       "<table border=\"1\" class=\"dataframe\">\n",
       "  <thead>\n",
       "    <tr style=\"text-align: right;\">\n",
       "      <th></th>\n",
       "      <th>CV_RMSE</th>\n",
       "      <th>Test_RMSE</th>\n",
       "    </tr>\n",
       "  </thead>\n",
       "  <tbody>\n",
       "    <tr>\n",
       "      <th>Linear Regression</th>\n",
       "      <td>21.120425</td>\n",
       "      <td>20.647685</td>\n",
       "    </tr>\n",
       "    <tr>\n",
       "      <th>Decision Tree</th>\n",
       "      <td>26.858014</td>\n",
       "      <td>25.139830</td>\n",
       "    </tr>\n",
       "    <tr>\n",
       "      <th>Random Forest</th>\n",
       "      <td>19.977993</td>\n",
       "      <td>19.751346</td>\n",
       "    </tr>\n",
       "  </tbody>\n",
       "</table>\n",
       "</div>"
      ],
      "text/plain": [
       "                     CV_RMSE  Test_RMSE\n",
       "Linear Regression  21.120425  20.647685\n",
       "Decision Tree      26.858014  25.139830\n",
       "Random Forest      19.977993  19.751346"
      ]
     },
     "execution_count": 64,
     "metadata": {},
     "output_type": "execute_result"
    }
   ],
   "source": [
    "\"\"\"Part D: Predict Released_Year as Regression\"\"\"\n",
    "\n",
    "# * Define features and target variable for Released_Year prediction\n",
    "target = 'Released_Year'\n",
    "X = pd.get_dummies(df[['Runtime2', 'No_of_Votes', 'Gross', 'Genre']], drop_first=True)\n",
    "y = df[target]\n",
    "\n",
    "# ? Train-test split\n",
    "X_train, X_test, y_train, y_test = train_test_split(X, y, test_size=0.2, random_state=42)\n",
    "\n",
    "# * Evaluate models\n",
    "results3 = {}\n",
    "for name, model in models.items():\n",
    "    cv_score = cv_rmse(model)\n",
    "    model.fit(X_train, y_train)\n",
    "    preds = model.predict(X_test)\n",
    "    rmse = np.sqrt(mean_squared_error(y_test, preds))\n",
    "    results3[name] = {'CV_RMSE': cv_score, 'Test_RMSE': rmse}\n",
    "    print(f\"{name}: CV RMSE = {cv_score:.2f}, Test RMSE = {rmse:.2f}\")\n",
    "    \n",
    "# * Convert results to DataFrame for better visualization\n",
    "pd.DataFrame(results3).T"
   ]
  }
 ],
 "metadata": {
  "kernelspec": {
   "display_name": "Python 3",
   "language": "python",
   "name": "python3"
  },
  "language_info": {
   "codemirror_mode": {
    "name": "ipython",
    "version": 3
   },
   "file_extension": ".py",
   "mimetype": "text/x-python",
   "name": "python",
   "nbconvert_exporter": "python",
   "pygments_lexer": "ipython3",
   "version": "3.12.3"
  }
 },
 "nbformat": 4,
 "nbformat_minor": 5
}
