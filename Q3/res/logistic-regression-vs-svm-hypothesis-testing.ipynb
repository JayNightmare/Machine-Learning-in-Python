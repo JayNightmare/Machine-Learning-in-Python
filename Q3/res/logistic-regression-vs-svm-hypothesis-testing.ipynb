{
 "cells": [
  {
   "cell_type": "markdown",
   "id": "computational-stick",
   "metadata": {
    "id": "QhjriXiqanUU",
    "papermill": {
     "duration": 0.045021,
     "end_time": "2021-05-18T19:48:48.450232",
     "exception": false,
     "start_time": "2021-05-18T19:48:48.405211",
     "status": "completed"
    },
    "tags": []
   },
   "source": [
    "##Loading and reading of dataset"
   ]
  },
  {
   "cell_type": "code",
   "execution_count": 1,
   "id": "brief-tanzania",
   "metadata": {
    "execution": {
     "iopub.execute_input": "2021-05-18T19:48:48.549341Z",
     "iopub.status.busy": "2021-05-18T19:48:48.548687Z",
     "iopub.status.idle": "2021-05-18T19:48:48.552540Z",
     "shell.execute_reply": "2021-05-18T19:48:48.551877Z"
    },
    "id": "kwcLHvmHIlTO",
    "papermill": {
     "duration": 0.058559,
     "end_time": "2021-05-18T19:48:48.552726",
     "exception": false,
     "start_time": "2021-05-18T19:48:48.494167",
     "status": "completed"
    },
    "tags": []
   },
   "outputs": [],
   "source": [
    "import pandas as pd\n",
    "import numpy as np\n",
    "import io\n",
    "import matplotlib.pyplot as plt"
   ]
  },
  {
   "cell_type": "code",
   "execution_count": 2,
   "id": "demanding-frederick",
   "metadata": {
    "execution": {
     "iopub.execute_input": "2021-05-18T19:48:48.646607Z",
     "iopub.status.busy": "2021-05-18T19:48:48.645728Z",
     "iopub.status.idle": "2021-05-18T19:48:48.720022Z",
     "shell.execute_reply": "2021-05-18T19:48:48.720708Z"
    },
    "id": "YkYJ8-CGJC_C",
    "papermill": {
     "duration": 0.124798,
     "end_time": "2021-05-18T19:48:48.720919",
     "exception": false,
     "start_time": "2021-05-18T19:48:48.596121",
     "status": "completed"
    },
    "tags": []
   },
   "outputs": [],
   "source": [
    "dataf = pd.read_csv('../input/persistent-vs-nonpersistent/Persistent_vs_NonPersistent.csv')"
   ]
  },
  {
   "cell_type": "code",
   "execution_count": 3,
   "id": "curious-brunei",
   "metadata": {
    "execution": {
     "iopub.execute_input": "2021-05-18T19:48:48.831992Z",
     "iopub.status.busy": "2021-05-18T19:48:48.831209Z",
     "iopub.status.idle": "2021-05-18T19:48:48.860427Z",
     "shell.execute_reply": "2021-05-18T19:48:48.860954Z"
    },
    "id": "20BckxnvKlv-",
    "outputId": "33d18801-d08d-46d8-bbc5-ecf5983195d3",
    "papermill": {
     "duration": 0.094117,
     "end_time": "2021-05-18T19:48:48.861153",
     "exception": false,
     "start_time": "2021-05-18T19:48:48.767036",
     "status": "completed"
    },
    "tags": []
   },
   "outputs": [
    {
     "data": {
      "text/html": [
       "<div>\n",
       "<style scoped>\n",
       "    .dataframe tbody tr th:only-of-type {\n",
       "        vertical-align: middle;\n",
       "    }\n",
       "\n",
       "    .dataframe tbody tr th {\n",
       "        vertical-align: top;\n",
       "    }\n",
       "\n",
       "    .dataframe thead th {\n",
       "        text-align: right;\n",
       "    }\n",
       "</style>\n",
       "<table border=\"1\" class=\"dataframe\">\n",
       "  <thead>\n",
       "    <tr style=\"text-align: right;\">\n",
       "      <th></th>\n",
       "      <th>Ptid</th>\n",
       "      <th>Persistency_Flag</th>\n",
       "      <th>Gender</th>\n",
       "      <th>Race</th>\n",
       "      <th>Ethnicity</th>\n",
       "      <th>Region</th>\n",
       "      <th>Age_Bucket</th>\n",
       "      <th>Ntm_Speciality</th>\n",
       "      <th>Ntm_Specialist_Flag</th>\n",
       "      <th>Ntm_Speciality_Bucket</th>\n",
       "      <th>...</th>\n",
       "      <th>Risk_Family_History_Of_Osteoporosis</th>\n",
       "      <th>Risk_Low_Calcium_Intake</th>\n",
       "      <th>Risk_Vitamin_D_Insufficiency</th>\n",
       "      <th>Risk_Poor_Health_Frailty</th>\n",
       "      <th>Risk_Excessive_Thinness</th>\n",
       "      <th>Risk_Hysterectomy_Oophorectomy</th>\n",
       "      <th>Risk_Estrogen_Deficiency</th>\n",
       "      <th>Risk_Immobilization</th>\n",
       "      <th>Risk_Recurring_Falls</th>\n",
       "      <th>Count_Of_Risks</th>\n",
       "    </tr>\n",
       "  </thead>\n",
       "  <tbody>\n",
       "    <tr>\n",
       "      <th>0</th>\n",
       "      <td>P1</td>\n",
       "      <td>Persistent</td>\n",
       "      <td>Male</td>\n",
       "      <td>Caucasian</td>\n",
       "      <td>Not Hispanic</td>\n",
       "      <td>West</td>\n",
       "      <td>&gt;75</td>\n",
       "      <td>GENERAL PRACTITIONER</td>\n",
       "      <td>Others</td>\n",
       "      <td>OB/GYN/Others/PCP/Unknown</td>\n",
       "      <td>...</td>\n",
       "      <td>N</td>\n",
       "      <td>N</td>\n",
       "      <td>N</td>\n",
       "      <td>N</td>\n",
       "      <td>N</td>\n",
       "      <td>N</td>\n",
       "      <td>N</td>\n",
       "      <td>N</td>\n",
       "      <td>N</td>\n",
       "      <td>0</td>\n",
       "    </tr>\n",
       "    <tr>\n",
       "      <th>1</th>\n",
       "      <td>P2</td>\n",
       "      <td>Non-Persistent</td>\n",
       "      <td>Male</td>\n",
       "      <td>Asian</td>\n",
       "      <td>Not Hispanic</td>\n",
       "      <td>West</td>\n",
       "      <td>55-65</td>\n",
       "      <td>GENERAL PRACTITIONER</td>\n",
       "      <td>Others</td>\n",
       "      <td>OB/GYN/Others/PCP/Unknown</td>\n",
       "      <td>...</td>\n",
       "      <td>N</td>\n",
       "      <td>N</td>\n",
       "      <td>N</td>\n",
       "      <td>N</td>\n",
       "      <td>N</td>\n",
       "      <td>N</td>\n",
       "      <td>N</td>\n",
       "      <td>N</td>\n",
       "      <td>N</td>\n",
       "      <td>0</td>\n",
       "    </tr>\n",
       "    <tr>\n",
       "      <th>2</th>\n",
       "      <td>P3</td>\n",
       "      <td>Non-Persistent</td>\n",
       "      <td>Female</td>\n",
       "      <td>Other/Unknown</td>\n",
       "      <td>Hispanic</td>\n",
       "      <td>Midwest</td>\n",
       "      <td>65-75</td>\n",
       "      <td>GENERAL PRACTITIONER</td>\n",
       "      <td>Others</td>\n",
       "      <td>OB/GYN/Others/PCP/Unknown</td>\n",
       "      <td>...</td>\n",
       "      <td>N</td>\n",
       "      <td>Y</td>\n",
       "      <td>N</td>\n",
       "      <td>N</td>\n",
       "      <td>N</td>\n",
       "      <td>N</td>\n",
       "      <td>N</td>\n",
       "      <td>N</td>\n",
       "      <td>N</td>\n",
       "      <td>2</td>\n",
       "    </tr>\n",
       "    <tr>\n",
       "      <th>3</th>\n",
       "      <td>P4</td>\n",
       "      <td>Non-Persistent</td>\n",
       "      <td>Female</td>\n",
       "      <td>Caucasian</td>\n",
       "      <td>Not Hispanic</td>\n",
       "      <td>Midwest</td>\n",
       "      <td>&gt;75</td>\n",
       "      <td>GENERAL PRACTITIONER</td>\n",
       "      <td>Others</td>\n",
       "      <td>OB/GYN/Others/PCP/Unknown</td>\n",
       "      <td>...</td>\n",
       "      <td>N</td>\n",
       "      <td>N</td>\n",
       "      <td>N</td>\n",
       "      <td>N</td>\n",
       "      <td>N</td>\n",
       "      <td>N</td>\n",
       "      <td>N</td>\n",
       "      <td>N</td>\n",
       "      <td>N</td>\n",
       "      <td>1</td>\n",
       "    </tr>\n",
       "    <tr>\n",
       "      <th>4</th>\n",
       "      <td>P5</td>\n",
       "      <td>Non-Persistent</td>\n",
       "      <td>Female</td>\n",
       "      <td>Caucasian</td>\n",
       "      <td>Not Hispanic</td>\n",
       "      <td>Midwest</td>\n",
       "      <td>&gt;75</td>\n",
       "      <td>GENERAL PRACTITIONER</td>\n",
       "      <td>Others</td>\n",
       "      <td>OB/GYN/Others/PCP/Unknown</td>\n",
       "      <td>...</td>\n",
       "      <td>N</td>\n",
       "      <td>N</td>\n",
       "      <td>N</td>\n",
       "      <td>N</td>\n",
       "      <td>N</td>\n",
       "      <td>N</td>\n",
       "      <td>N</td>\n",
       "      <td>N</td>\n",
       "      <td>N</td>\n",
       "      <td>1</td>\n",
       "    </tr>\n",
       "  </tbody>\n",
       "</table>\n",
       "<p>5 rows × 69 columns</p>\n",
       "</div>"
      ],
      "text/plain": [
       "  Ptid Persistency_Flag  Gender           Race     Ethnicity   Region  \\\n",
       "0   P1       Persistent    Male      Caucasian  Not Hispanic     West   \n",
       "1   P2   Non-Persistent    Male          Asian  Not Hispanic     West   \n",
       "2   P3   Non-Persistent  Female  Other/Unknown      Hispanic  Midwest   \n",
       "3   P4   Non-Persistent  Female      Caucasian  Not Hispanic  Midwest   \n",
       "4   P5   Non-Persistent  Female      Caucasian  Not Hispanic  Midwest   \n",
       "\n",
       "  Age_Bucket        Ntm_Speciality Ntm_Specialist_Flag  \\\n",
       "0        >75  GENERAL PRACTITIONER              Others   \n",
       "1      55-65  GENERAL PRACTITIONER              Others   \n",
       "2      65-75  GENERAL PRACTITIONER              Others   \n",
       "3        >75  GENERAL PRACTITIONER              Others   \n",
       "4        >75  GENERAL PRACTITIONER              Others   \n",
       "\n",
       "       Ntm_Speciality_Bucket  ... Risk_Family_History_Of_Osteoporosis  \\\n",
       "0  OB/GYN/Others/PCP/Unknown  ...                                   N   \n",
       "1  OB/GYN/Others/PCP/Unknown  ...                                   N   \n",
       "2  OB/GYN/Others/PCP/Unknown  ...                                   N   \n",
       "3  OB/GYN/Others/PCP/Unknown  ...                                   N   \n",
       "4  OB/GYN/Others/PCP/Unknown  ...                                   N   \n",
       "\n",
       "  Risk_Low_Calcium_Intake  Risk_Vitamin_D_Insufficiency  \\\n",
       "0                       N                             N   \n",
       "1                       N                             N   \n",
       "2                       Y                             N   \n",
       "3                       N                             N   \n",
       "4                       N                             N   \n",
       "\n",
       "  Risk_Poor_Health_Frailty Risk_Excessive_Thinness  \\\n",
       "0                        N                       N   \n",
       "1                        N                       N   \n",
       "2                        N                       N   \n",
       "3                        N                       N   \n",
       "4                        N                       N   \n",
       "\n",
       "  Risk_Hysterectomy_Oophorectomy Risk_Estrogen_Deficiency Risk_Immobilization  \\\n",
       "0                              N                        N                   N   \n",
       "1                              N                        N                   N   \n",
       "2                              N                        N                   N   \n",
       "3                              N                        N                   N   \n",
       "4                              N                        N                   N   \n",
       "\n",
       "  Risk_Recurring_Falls Count_Of_Risks  \n",
       "0                    N              0  \n",
       "1                    N              0  \n",
       "2                    N              2  \n",
       "3                    N              1  \n",
       "4                    N              1  \n",
       "\n",
       "[5 rows x 69 columns]"
      ]
     },
     "execution_count": 3,
     "metadata": {},
     "output_type": "execute_result"
    }
   ],
   "source": [
    "dataf.head()"
   ]
  },
  {
   "cell_type": "code",
   "execution_count": 4,
   "id": "actual-leeds",
   "metadata": {
    "execution": {
     "iopub.execute_input": "2021-05-18T19:48:48.959407Z",
     "iopub.status.busy": "2021-05-18T19:48:48.958721Z",
     "iopub.status.idle": "2021-05-18T19:48:48.985992Z",
     "shell.execute_reply": "2021-05-18T19:48:48.986592Z"
    },
    "id": "SthSuz1kJYXU",
    "outputId": "13d60847-9118-4e1c-ce58-54aca20b8a04",
    "papermill": {
     "duration": 0.077933,
     "end_time": "2021-05-18T19:48:48.986798",
     "exception": false,
     "start_time": "2021-05-18T19:48:48.908865",
     "status": "completed"
    },
    "tags": []
   },
   "outputs": [
    {
     "data": {
      "text/html": [
       "<div>\n",
       "<style scoped>\n",
       "    .dataframe tbody tr th:only-of-type {\n",
       "        vertical-align: middle;\n",
       "    }\n",
       "\n",
       "    .dataframe tbody tr th {\n",
       "        vertical-align: top;\n",
       "    }\n",
       "\n",
       "    .dataframe thead th {\n",
       "        text-align: right;\n",
       "    }\n",
       "</style>\n",
       "<table border=\"1\" class=\"dataframe\">\n",
       "  <thead>\n",
       "    <tr style=\"text-align: right;\">\n",
       "      <th></th>\n",
       "      <th>Ptid</th>\n",
       "      <th>Persistency_Flag</th>\n",
       "      <th>Gender</th>\n",
       "      <th>Race</th>\n",
       "      <th>Ethnicity</th>\n",
       "      <th>Region</th>\n",
       "      <th>Age_Bucket</th>\n",
       "      <th>Ntm_Speciality</th>\n",
       "      <th>Ntm_Specialist_Flag</th>\n",
       "      <th>Ntm_Speciality_Bucket</th>\n",
       "      <th>...</th>\n",
       "      <th>Risk_Family_History_Of_Osteoporosis</th>\n",
       "      <th>Risk_Low_Calcium_Intake</th>\n",
       "      <th>Risk_Vitamin_D_Insufficiency</th>\n",
       "      <th>Risk_Poor_Health_Frailty</th>\n",
       "      <th>Risk_Excessive_Thinness</th>\n",
       "      <th>Risk_Hysterectomy_Oophorectomy</th>\n",
       "      <th>Risk_Estrogen_Deficiency</th>\n",
       "      <th>Risk_Immobilization</th>\n",
       "      <th>Risk_Recurring_Falls</th>\n",
       "      <th>Count_Of_Risks</th>\n",
       "    </tr>\n",
       "  </thead>\n",
       "  <tbody>\n",
       "    <tr>\n",
       "      <th>3419</th>\n",
       "      <td>P3420</td>\n",
       "      <td>Persistent</td>\n",
       "      <td>Female</td>\n",
       "      <td>Caucasian</td>\n",
       "      <td>Not Hispanic</td>\n",
       "      <td>South</td>\n",
       "      <td>&gt;75</td>\n",
       "      <td>GENERAL PRACTITIONER</td>\n",
       "      <td>Others</td>\n",
       "      <td>OB/GYN/Others/PCP/Unknown</td>\n",
       "      <td>...</td>\n",
       "      <td>N</td>\n",
       "      <td>N</td>\n",
       "      <td>Y</td>\n",
       "      <td>N</td>\n",
       "      <td>N</td>\n",
       "      <td>N</td>\n",
       "      <td>N</td>\n",
       "      <td>N</td>\n",
       "      <td>N</td>\n",
       "      <td>1</td>\n",
       "    </tr>\n",
       "    <tr>\n",
       "      <th>3420</th>\n",
       "      <td>P3421</td>\n",
       "      <td>Persistent</td>\n",
       "      <td>Female</td>\n",
       "      <td>Caucasian</td>\n",
       "      <td>Not Hispanic</td>\n",
       "      <td>South</td>\n",
       "      <td>&gt;75</td>\n",
       "      <td>Unknown</td>\n",
       "      <td>Others</td>\n",
       "      <td>OB/GYN/Others/PCP/Unknown</td>\n",
       "      <td>...</td>\n",
       "      <td>N</td>\n",
       "      <td>N</td>\n",
       "      <td>N</td>\n",
       "      <td>N</td>\n",
       "      <td>N</td>\n",
       "      <td>N</td>\n",
       "      <td>N</td>\n",
       "      <td>N</td>\n",
       "      <td>N</td>\n",
       "      <td>0</td>\n",
       "    </tr>\n",
       "    <tr>\n",
       "      <th>3421</th>\n",
       "      <td>P3422</td>\n",
       "      <td>Persistent</td>\n",
       "      <td>Female</td>\n",
       "      <td>Caucasian</td>\n",
       "      <td>Not Hispanic</td>\n",
       "      <td>South</td>\n",
       "      <td>&gt;75</td>\n",
       "      <td>ENDOCRINOLOGY</td>\n",
       "      <td>Specialist</td>\n",
       "      <td>Endo/Onc/Uro</td>\n",
       "      <td>...</td>\n",
       "      <td>N</td>\n",
       "      <td>N</td>\n",
       "      <td>Y</td>\n",
       "      <td>N</td>\n",
       "      <td>N</td>\n",
       "      <td>N</td>\n",
       "      <td>N</td>\n",
       "      <td>N</td>\n",
       "      <td>N</td>\n",
       "      <td>1</td>\n",
       "    </tr>\n",
       "    <tr>\n",
       "      <th>3422</th>\n",
       "      <td>P3423</td>\n",
       "      <td>Non-Persistent</td>\n",
       "      <td>Female</td>\n",
       "      <td>Caucasian</td>\n",
       "      <td>Not Hispanic</td>\n",
       "      <td>South</td>\n",
       "      <td>55-65</td>\n",
       "      <td>Unknown</td>\n",
       "      <td>Others</td>\n",
       "      <td>OB/GYN/Others/PCP/Unknown</td>\n",
       "      <td>...</td>\n",
       "      <td>N</td>\n",
       "      <td>N</td>\n",
       "      <td>N</td>\n",
       "      <td>N</td>\n",
       "      <td>N</td>\n",
       "      <td>N</td>\n",
       "      <td>N</td>\n",
       "      <td>N</td>\n",
       "      <td>N</td>\n",
       "      <td>0</td>\n",
       "    </tr>\n",
       "    <tr>\n",
       "      <th>3423</th>\n",
       "      <td>P3424</td>\n",
       "      <td>Non-Persistent</td>\n",
       "      <td>Female</td>\n",
       "      <td>Caucasian</td>\n",
       "      <td>Not Hispanic</td>\n",
       "      <td>South</td>\n",
       "      <td>65-75</td>\n",
       "      <td>Unknown</td>\n",
       "      <td>Others</td>\n",
       "      <td>OB/GYN/Others/PCP/Unknown</td>\n",
       "      <td>...</td>\n",
       "      <td>N</td>\n",
       "      <td>N</td>\n",
       "      <td>Y</td>\n",
       "      <td>N</td>\n",
       "      <td>N</td>\n",
       "      <td>N</td>\n",
       "      <td>N</td>\n",
       "      <td>N</td>\n",
       "      <td>N</td>\n",
       "      <td>1</td>\n",
       "    </tr>\n",
       "  </tbody>\n",
       "</table>\n",
       "<p>5 rows × 69 columns</p>\n",
       "</div>"
      ],
      "text/plain": [
       "       Ptid Persistency_Flag  Gender       Race     Ethnicity Region  \\\n",
       "3419  P3420       Persistent  Female  Caucasian  Not Hispanic  South   \n",
       "3420  P3421       Persistent  Female  Caucasian  Not Hispanic  South   \n",
       "3421  P3422       Persistent  Female  Caucasian  Not Hispanic  South   \n",
       "3422  P3423   Non-Persistent  Female  Caucasian  Not Hispanic  South   \n",
       "3423  P3424   Non-Persistent  Female  Caucasian  Not Hispanic  South   \n",
       "\n",
       "     Age_Bucket        Ntm_Speciality Ntm_Specialist_Flag  \\\n",
       "3419        >75  GENERAL PRACTITIONER              Others   \n",
       "3420        >75               Unknown              Others   \n",
       "3421        >75         ENDOCRINOLOGY          Specialist   \n",
       "3422      55-65               Unknown              Others   \n",
       "3423      65-75               Unknown              Others   \n",
       "\n",
       "          Ntm_Speciality_Bucket  ... Risk_Family_History_Of_Osteoporosis  \\\n",
       "3419  OB/GYN/Others/PCP/Unknown  ...                                   N   \n",
       "3420  OB/GYN/Others/PCP/Unknown  ...                                   N   \n",
       "3421               Endo/Onc/Uro  ...                                   N   \n",
       "3422  OB/GYN/Others/PCP/Unknown  ...                                   N   \n",
       "3423  OB/GYN/Others/PCP/Unknown  ...                                   N   \n",
       "\n",
       "     Risk_Low_Calcium_Intake  Risk_Vitamin_D_Insufficiency  \\\n",
       "3419                       N                             Y   \n",
       "3420                       N                             N   \n",
       "3421                       N                             Y   \n",
       "3422                       N                             N   \n",
       "3423                       N                             Y   \n",
       "\n",
       "     Risk_Poor_Health_Frailty Risk_Excessive_Thinness  \\\n",
       "3419                        N                       N   \n",
       "3420                        N                       N   \n",
       "3421                        N                       N   \n",
       "3422                        N                       N   \n",
       "3423                        N                       N   \n",
       "\n",
       "     Risk_Hysterectomy_Oophorectomy Risk_Estrogen_Deficiency  \\\n",
       "3419                              N                        N   \n",
       "3420                              N                        N   \n",
       "3421                              N                        N   \n",
       "3422                              N                        N   \n",
       "3423                              N                        N   \n",
       "\n",
       "     Risk_Immobilization Risk_Recurring_Falls Count_Of_Risks  \n",
       "3419                   N                    N              1  \n",
       "3420                   N                    N              0  \n",
       "3421                   N                    N              1  \n",
       "3422                   N                    N              0  \n",
       "3423                   N                    N              1  \n",
       "\n",
       "[5 rows x 69 columns]"
      ]
     },
     "execution_count": 4,
     "metadata": {},
     "output_type": "execute_result"
    }
   ],
   "source": [
    "dataf.tail()"
   ]
  },
  {
   "cell_type": "markdown",
   "id": "short-rachel",
   "metadata": {
    "id": "C38c4ulyabDM",
    "papermill": {
     "duration": 0.045201,
     "end_time": "2021-05-18T19:48:49.077419",
     "exception": false,
     "start_time": "2021-05-18T19:48:49.032218",
     "status": "completed"
    },
    "tags": []
   },
   "source": [
    "##Descriptive Analysis of dataset"
   ]
  },
  {
   "cell_type": "code",
   "execution_count": 5,
   "id": "ceramic-assurance",
   "metadata": {
    "execution": {
     "iopub.execute_input": "2021-05-18T19:48:49.178659Z",
     "iopub.status.busy": "2021-05-18T19:48:49.176553Z",
     "iopub.status.idle": "2021-05-18T19:48:49.198645Z",
     "shell.execute_reply": "2021-05-18T19:48:49.197936Z"
    },
    "id": "0JD4FmM5J24G",
    "outputId": "265bf251-a467-4b46-c484-86f8ce3c7ae9",
    "papermill": {
     "duration": 0.074818,
     "end_time": "2021-05-18T19:48:49.198808",
     "exception": false,
     "start_time": "2021-05-18T19:48:49.123990",
     "status": "completed"
    },
    "tags": []
   },
   "outputs": [
    {
     "data": {
      "text/plain": [
       "<bound method NDFrame.describe of        Ptid Persistency_Flag  Gender           Race     Ethnicity   Region  \\\n",
       "0        P1       Persistent    Male      Caucasian  Not Hispanic     West   \n",
       "1        P2   Non-Persistent    Male          Asian  Not Hispanic     West   \n",
       "2        P3   Non-Persistent  Female  Other/Unknown      Hispanic  Midwest   \n",
       "3        P4   Non-Persistent  Female      Caucasian  Not Hispanic  Midwest   \n",
       "4        P5   Non-Persistent  Female      Caucasian  Not Hispanic  Midwest   \n",
       "...     ...              ...     ...            ...           ...      ...   \n",
       "3419  P3420       Persistent  Female      Caucasian  Not Hispanic    South   \n",
       "3420  P3421       Persistent  Female      Caucasian  Not Hispanic    South   \n",
       "3421  P3422       Persistent  Female      Caucasian  Not Hispanic    South   \n",
       "3422  P3423   Non-Persistent  Female      Caucasian  Not Hispanic    South   \n",
       "3423  P3424   Non-Persistent  Female      Caucasian  Not Hispanic    South   \n",
       "\n",
       "     Age_Bucket        Ntm_Speciality Ntm_Specialist_Flag  \\\n",
       "0           >75  GENERAL PRACTITIONER              Others   \n",
       "1         55-65  GENERAL PRACTITIONER              Others   \n",
       "2         65-75  GENERAL PRACTITIONER              Others   \n",
       "3           >75  GENERAL PRACTITIONER              Others   \n",
       "4           >75  GENERAL PRACTITIONER              Others   \n",
       "...         ...                   ...                 ...   \n",
       "3419        >75  GENERAL PRACTITIONER              Others   \n",
       "3420        >75               Unknown              Others   \n",
       "3421        >75         ENDOCRINOLOGY          Specialist   \n",
       "3422      55-65               Unknown              Others   \n",
       "3423      65-75               Unknown              Others   \n",
       "\n",
       "          Ntm_Speciality_Bucket  ... Risk_Family_History_Of_Osteoporosis  \\\n",
       "0     OB/GYN/Others/PCP/Unknown  ...                                   N   \n",
       "1     OB/GYN/Others/PCP/Unknown  ...                                   N   \n",
       "2     OB/GYN/Others/PCP/Unknown  ...                                   N   \n",
       "3     OB/GYN/Others/PCP/Unknown  ...                                   N   \n",
       "4     OB/GYN/Others/PCP/Unknown  ...                                   N   \n",
       "...                         ...  ...                                 ...   \n",
       "3419  OB/GYN/Others/PCP/Unknown  ...                                   N   \n",
       "3420  OB/GYN/Others/PCP/Unknown  ...                                   N   \n",
       "3421               Endo/Onc/Uro  ...                                   N   \n",
       "3422  OB/GYN/Others/PCP/Unknown  ...                                   N   \n",
       "3423  OB/GYN/Others/PCP/Unknown  ...                                   N   \n",
       "\n",
       "     Risk_Low_Calcium_Intake  Risk_Vitamin_D_Insufficiency  \\\n",
       "0                          N                             N   \n",
       "1                          N                             N   \n",
       "2                          Y                             N   \n",
       "3                          N                             N   \n",
       "4                          N                             N   \n",
       "...                      ...                           ...   \n",
       "3419                       N                             Y   \n",
       "3420                       N                             N   \n",
       "3421                       N                             Y   \n",
       "3422                       N                             N   \n",
       "3423                       N                             Y   \n",
       "\n",
       "     Risk_Poor_Health_Frailty Risk_Excessive_Thinness  \\\n",
       "0                           N                       N   \n",
       "1                           N                       N   \n",
       "2                           N                       N   \n",
       "3                           N                       N   \n",
       "4                           N                       N   \n",
       "...                       ...                     ...   \n",
       "3419                        N                       N   \n",
       "3420                        N                       N   \n",
       "3421                        N                       N   \n",
       "3422                        N                       N   \n",
       "3423                        N                       N   \n",
       "\n",
       "     Risk_Hysterectomy_Oophorectomy Risk_Estrogen_Deficiency  \\\n",
       "0                                 N                        N   \n",
       "1                                 N                        N   \n",
       "2                                 N                        N   \n",
       "3                                 N                        N   \n",
       "4                                 N                        N   \n",
       "...                             ...                      ...   \n",
       "3419                              N                        N   \n",
       "3420                              N                        N   \n",
       "3421                              N                        N   \n",
       "3422                              N                        N   \n",
       "3423                              N                        N   \n",
       "\n",
       "     Risk_Immobilization Risk_Recurring_Falls Count_Of_Risks  \n",
       "0                      N                    N              0  \n",
       "1                      N                    N              0  \n",
       "2                      N                    N              2  \n",
       "3                      N                    N              1  \n",
       "4                      N                    N              1  \n",
       "...                  ...                  ...            ...  \n",
       "3419                   N                    N              1  \n",
       "3420                   N                    N              0  \n",
       "3421                   N                    N              1  \n",
       "3422                   N                    N              0  \n",
       "3423                   N                    N              1  \n",
       "\n",
       "[3424 rows x 69 columns]>"
      ]
     },
     "execution_count": 5,
     "metadata": {},
     "output_type": "execute_result"
    }
   ],
   "source": [
    "dataf.describe"
   ]
  },
  {
   "cell_type": "code",
   "execution_count": 6,
   "id": "dutch-doctor",
   "metadata": {
    "execution": {
     "iopub.execute_input": "2021-05-18T19:48:49.317954Z",
     "iopub.status.busy": "2021-05-18T19:48:49.316773Z",
     "iopub.status.idle": "2021-05-18T19:48:49.343204Z",
     "shell.execute_reply": "2021-05-18T19:48:49.343692Z"
    },
    "id": "mDUXH89MKx2X",
    "outputId": "fa4b5bc1-0db9-4939-9d11-29a997f5963f",
    "papermill": {
     "duration": 0.099091,
     "end_time": "2021-05-18T19:48:49.343934",
     "exception": false,
     "start_time": "2021-05-18T19:48:49.244843",
     "status": "completed"
    },
    "tags": []
   },
   "outputs": [
    {
     "name": "stdout",
     "output_type": "stream",
     "text": [
      "<class 'pandas.core.frame.DataFrame'>\n",
      "RangeIndex: 3424 entries, 0 to 3423\n",
      "Data columns (total 69 columns):\n",
      " #   Column                                                              Non-Null Count  Dtype \n",
      "---  ------                                                              --------------  ----- \n",
      " 0   Ptid                                                                3424 non-null   object\n",
      " 1   Persistency_Flag                                                    3424 non-null   object\n",
      " 2   Gender                                                              3424 non-null   object\n",
      " 3   Race                                                                3424 non-null   object\n",
      " 4   Ethnicity                                                           3424 non-null   object\n",
      " 5   Region                                                              3424 non-null   object\n",
      " 6   Age_Bucket                                                          3424 non-null   object\n",
      " 7   Ntm_Speciality                                                      3424 non-null   object\n",
      " 8   Ntm_Specialist_Flag                                                 3424 non-null   object\n",
      " 9   Ntm_Speciality_Bucket                                               3424 non-null   object\n",
      " 10  Gluco_Record_Prior_Ntm                                              3424 non-null   object\n",
      " 11  Gluco_Record_During_Rx                                              3424 non-null   object\n",
      " 12  Dexa_Freq_During_Rx                                                 3424 non-null   int64 \n",
      " 13  Dexa_During_Rx                                                      3424 non-null   object\n",
      " 14  Frag_Frac_Prior_Ntm                                                 3424 non-null   object\n",
      " 15  Frag_Frac_During_Rx                                                 3424 non-null   object\n",
      " 16  Risk_Segment_Prior_Ntm                                              3424 non-null   object\n",
      " 17  Tscore_Bucket_Prior_Ntm                                             3424 non-null   object\n",
      " 18  Risk_Segment_During_Rx                                              3424 non-null   object\n",
      " 19  Tscore_Bucket_During_Rx                                             3424 non-null   object\n",
      " 20  Change_T_Score                                                      3424 non-null   object\n",
      " 21  Change_Risk_Segment                                                 3424 non-null   object\n",
      " 22  Adherent_Flag                                                       3424 non-null   object\n",
      " 23  Idn_Indicator                                                       3424 non-null   object\n",
      " 24  Injectable_Experience_During_Rx                                     3424 non-null   object\n",
      " 25  Comorb_Encounter_For_Screening_For_Malignant_Neoplasms              3424 non-null   object\n",
      " 26  Comorb_Encounter_For_Immunization                                   3424 non-null   object\n",
      " 27  Comorb_Encntr_For_General_Exam_W_O_Complaint,_Susp_Or_Reprtd_Dx     3424 non-null   object\n",
      " 28  Comorb_Vitamin_D_Deficiency                                         3424 non-null   object\n",
      " 29  Comorb_Other_Joint_Disorder_Not_Elsewhere_Classified                3424 non-null   object\n",
      " 30  Comorb_Encntr_For_Oth_Sp_Exam_W_O_Complaint_Suspected_Or_Reprtd_Dx  3424 non-null   object\n",
      " 31  Comorb_Long_Term_Current_Drug_Therapy                               3424 non-null   object\n",
      " 32  Comorb_Dorsalgia                                                    3424 non-null   object\n",
      " 33  Comorb_Personal_History_Of_Other_Diseases_And_Conditions            3424 non-null   object\n",
      " 34  Comorb_Other_Disorders_Of_Bone_Density_And_Structure                3424 non-null   object\n",
      " 35  Comorb_Disorders_of_lipoprotein_metabolism_and_other_lipidemias     3424 non-null   object\n",
      " 36  Comorb_Osteoporosis_without_current_pathological_fracture           3424 non-null   object\n",
      " 37  Comorb_Personal_history_of_malignant_neoplasm                       3424 non-null   object\n",
      " 38  Comorb_Gastro_esophageal_reflux_disease                             3424 non-null   object\n",
      " 39  Concom_Cholesterol_And_Triglyceride_Regulating_Preparations         3424 non-null   object\n",
      " 40  Concom_Narcotics                                                    3424 non-null   object\n",
      " 41  Concom_Systemic_Corticosteroids_Plain                               3424 non-null   object\n",
      " 42  Concom_Anti_Depressants_And_Mood_Stabilisers                        3424 non-null   object\n",
      " 43  Concom_Fluoroquinolones                                             3424 non-null   object\n",
      " 44  Concom_Cephalosporins                                               3424 non-null   object\n",
      " 45  Concom_Macrolides_And_Similar_Types                                 3424 non-null   object\n",
      " 46  Concom_Broad_Spectrum_Penicillins                                   3424 non-null   object\n",
      " 47  Concom_Anaesthetics_General                                         3424 non-null   object\n",
      " 48  Concom_Viral_Vaccines                                               3424 non-null   object\n",
      " 49  Risk_Type_1_Insulin_Dependent_Diabetes                              3424 non-null   object\n",
      " 50  Risk_Osteogenesis_Imperfecta                                        3424 non-null   object\n",
      " 51  Risk_Rheumatoid_Arthritis                                           3424 non-null   object\n",
      " 52  Risk_Untreated_Chronic_Hyperthyroidism                              3424 non-null   object\n",
      " 53  Risk_Untreated_Chronic_Hypogonadism                                 3424 non-null   object\n",
      " 54  Risk_Untreated_Early_Menopause                                      3424 non-null   object\n",
      " 55  Risk_Patient_Parent_Fractured_Their_Hip                             3424 non-null   object\n",
      " 56  Risk_Smoking_Tobacco                                                3424 non-null   object\n",
      " 57  Risk_Chronic_Malnutrition_Or_Malabsorption                          3424 non-null   object\n",
      " 58  Risk_Chronic_Liver_Disease                                          3424 non-null   object\n",
      " 59  Risk_Family_History_Of_Osteoporosis                                 3424 non-null   object\n",
      " 60  Risk_Low_Calcium_Intake                                             3424 non-null   object\n",
      " 61  Risk_Vitamin_D_Insufficiency                                        3424 non-null   object\n",
      " 62  Risk_Poor_Health_Frailty                                            3424 non-null   object\n",
      " 63  Risk_Excessive_Thinness                                             3424 non-null   object\n",
      " 64  Risk_Hysterectomy_Oophorectomy                                      3424 non-null   object\n",
      " 65  Risk_Estrogen_Deficiency                                            3424 non-null   object\n",
      " 66  Risk_Immobilization                                                 3424 non-null   object\n",
      " 67  Risk_Recurring_Falls                                                3424 non-null   object\n",
      " 68  Count_Of_Risks                                                      3424 non-null   int64 \n",
      "dtypes: int64(2), object(67)\n",
      "memory usage: 1.8+ MB\n"
     ]
    }
   ],
   "source": [
    "dataf.info()"
   ]
  },
  {
   "cell_type": "code",
   "execution_count": 7,
   "id": "intended-preserve",
   "metadata": {
    "execution": {
     "iopub.execute_input": "2021-05-18T19:48:49.443475Z",
     "iopub.status.busy": "2021-05-18T19:48:49.442549Z",
     "iopub.status.idle": "2021-05-18T19:48:49.451320Z",
     "shell.execute_reply": "2021-05-18T19:48:49.452254Z"
    },
    "id": "yiwts9CnNzwo",
    "outputId": "be2bbb3c-87cc-497a-f1cc-b0032fef7616",
    "papermill": {
     "duration": 0.060741,
     "end_time": "2021-05-18T19:48:49.452505",
     "exception": false,
     "start_time": "2021-05-18T19:48:49.391764",
     "status": "completed"
    },
    "tags": []
   },
   "outputs": [
    {
     "name": "stdout",
     "output_type": "stream",
     "text": [
      "Rows     :  3424\n",
      "Columns  :  69\n",
      "\n",
      "Features : \n",
      " ['Ptid', 'Persistency_Flag', 'Gender', 'Race', 'Ethnicity', 'Region', 'Age_Bucket', 'Ntm_Speciality', 'Ntm_Specialist_Flag', 'Ntm_Speciality_Bucket', 'Gluco_Record_Prior_Ntm', 'Gluco_Record_During_Rx', 'Dexa_Freq_During_Rx', 'Dexa_During_Rx', 'Frag_Frac_Prior_Ntm', 'Frag_Frac_During_Rx', 'Risk_Segment_Prior_Ntm', 'Tscore_Bucket_Prior_Ntm', 'Risk_Segment_During_Rx', 'Tscore_Bucket_During_Rx', 'Change_T_Score', 'Change_Risk_Segment', 'Adherent_Flag', 'Idn_Indicator', 'Injectable_Experience_During_Rx', 'Comorb_Encounter_For_Screening_For_Malignant_Neoplasms', 'Comorb_Encounter_For_Immunization', 'Comorb_Encntr_For_General_Exam_W_O_Complaint,_Susp_Or_Reprtd_Dx', 'Comorb_Vitamin_D_Deficiency', 'Comorb_Other_Joint_Disorder_Not_Elsewhere_Classified', 'Comorb_Encntr_For_Oth_Sp_Exam_W_O_Complaint_Suspected_Or_Reprtd_Dx', 'Comorb_Long_Term_Current_Drug_Therapy', 'Comorb_Dorsalgia', 'Comorb_Personal_History_Of_Other_Diseases_And_Conditions', 'Comorb_Other_Disorders_Of_Bone_Density_And_Structure', 'Comorb_Disorders_of_lipoprotein_metabolism_and_other_lipidemias', 'Comorb_Osteoporosis_without_current_pathological_fracture', 'Comorb_Personal_history_of_malignant_neoplasm', 'Comorb_Gastro_esophageal_reflux_disease', 'Concom_Cholesterol_And_Triglyceride_Regulating_Preparations', 'Concom_Narcotics', 'Concom_Systemic_Corticosteroids_Plain', 'Concom_Anti_Depressants_And_Mood_Stabilisers', 'Concom_Fluoroquinolones', 'Concom_Cephalosporins', 'Concom_Macrolides_And_Similar_Types', 'Concom_Broad_Spectrum_Penicillins', 'Concom_Anaesthetics_General', 'Concom_Viral_Vaccines', 'Risk_Type_1_Insulin_Dependent_Diabetes', 'Risk_Osteogenesis_Imperfecta', 'Risk_Rheumatoid_Arthritis', 'Risk_Untreated_Chronic_Hyperthyroidism', 'Risk_Untreated_Chronic_Hypogonadism', 'Risk_Untreated_Early_Menopause', 'Risk_Patient_Parent_Fractured_Their_Hip', 'Risk_Smoking_Tobacco', 'Risk_Chronic_Malnutrition_Or_Malabsorption', 'Risk_Chronic_Liver_Disease', 'Risk_Family_History_Of_Osteoporosis', 'Risk_Low_Calcium_Intake', 'Risk_Vitamin_D_Insufficiency', 'Risk_Poor_Health_Frailty', 'Risk_Excessive_Thinness', 'Risk_Hysterectomy_Oophorectomy', 'Risk_Estrogen_Deficiency', 'Risk_Immobilization', 'Risk_Recurring_Falls', 'Count_Of_Risks']\n"
     ]
    }
   ],
   "source": [
    "print (\"Rows     : \" ,dataf.shape[0])\n",
    "print (\"Columns  : \" ,dataf.shape[1])\n",
    "print (\"\\nFeatures : \\n\" ,dataf.columns.tolist())"
   ]
  },
  {
   "cell_type": "code",
   "execution_count": 8,
   "id": "looking-radical",
   "metadata": {
    "execution": {
     "iopub.execute_input": "2021-05-18T19:48:49.555428Z",
     "iopub.status.busy": "2021-05-18T19:48:49.554383Z",
     "iopub.status.idle": "2021-05-18T19:48:49.586639Z",
     "shell.execute_reply": "2021-05-18T19:48:49.585592Z"
    },
    "id": "7V-eDGGYOIpS",
    "outputId": "f67753e0-0509-4b02-80f6-bf2c1bd9bd20",
    "papermill": {
     "duration": 0.08449,
     "end_time": "2021-05-18T19:48:49.586844",
     "exception": false,
     "start_time": "2021-05-18T19:48:49.502354",
     "status": "completed"
    },
    "tags": []
   },
   "outputs": [
    {
     "name": "stdout",
     "output_type": "stream",
     "text": [
      "\n",
      "Missing values :   Ptid                              False\n",
      "Persistency_Flag                  False\n",
      "Gender                            False\n",
      "Race                              False\n",
      "Ethnicity                         False\n",
      "                                  ...  \n",
      "Risk_Hysterectomy_Oophorectomy    False\n",
      "Risk_Estrogen_Deficiency          False\n",
      "Risk_Immobilization               False\n",
      "Risk_Recurring_Falls              False\n",
      "Count_Of_Risks                    False\n",
      "Length: 69, dtype: bool\n"
     ]
    }
   ],
   "source": [
    "print (\"\\nMissing values :  \", dataf.isnull().any())"
   ]
  },
  {
   "cell_type": "code",
   "execution_count": 9,
   "id": "sacred-sentence",
   "metadata": {
    "execution": {
     "iopub.execute_input": "2021-05-18T19:48:49.686347Z",
     "iopub.status.busy": "2021-05-18T19:48:49.685727Z",
     "iopub.status.idle": "2021-05-18T19:48:49.751594Z",
     "shell.execute_reply": "2021-05-18T19:48:49.751052Z"
    },
    "id": "xv3gJJvsOYBc",
    "outputId": "f40634b7-8b80-4cd5-bf02-da80dd9a6017",
    "papermill": {
     "duration": 0.117325,
     "end_time": "2021-05-18T19:48:49.751742",
     "exception": false,
     "start_time": "2021-05-18T19:48:49.634417",
     "status": "completed"
    },
    "tags": []
   },
   "outputs": [
    {
     "name": "stdout",
     "output_type": "stream",
     "text": [
      "\n",
      "Unique values :  \n",
      " Ptid                              3424\n",
      "Persistency_Flag                     2\n",
      "Gender                               2\n",
      "Race                                 4\n",
      "Ethnicity                            3\n",
      "                                  ... \n",
      "Risk_Hysterectomy_Oophorectomy       2\n",
      "Risk_Estrogen_Deficiency             2\n",
      "Risk_Immobilization                  2\n",
      "Risk_Recurring_Falls                 2\n",
      "Count_Of_Risks                       8\n",
      "Length: 69, dtype: int64\n"
     ]
    }
   ],
   "source": [
    "print (\"\\nUnique values :  \\n\",dataf.nunique())"
   ]
  },
  {
   "cell_type": "code",
   "execution_count": 10,
   "id": "controlled-designation",
   "metadata": {
    "execution": {
     "iopub.execute_input": "2021-05-18T19:48:49.873637Z",
     "iopub.status.busy": "2021-05-18T19:48:49.872549Z",
     "iopub.status.idle": "2021-05-18T19:48:49.881026Z",
     "shell.execute_reply": "2021-05-18T19:48:49.881527Z"
    },
    "id": "DQhAuB3COa5t",
    "outputId": "574c28f1-26dd-4060-9996-c1485d900439",
    "papermill": {
     "duration": 0.081873,
     "end_time": "2021-05-18T19:48:49.881723",
     "exception": false,
     "start_time": "2021-05-18T19:48:49.799850",
     "status": "completed"
    },
    "tags": []
   },
   "outputs": [
    {
     "data": {
      "text/plain": [
       "Ptid                              0\n",
       "Persistency_Flag                  0\n",
       "Gender                            0\n",
       "Race                              0\n",
       "Ethnicity                         0\n",
       "                                 ..\n",
       "Risk_Hysterectomy_Oophorectomy    0\n",
       "Risk_Estrogen_Deficiency          0\n",
       "Risk_Immobilization               0\n",
       "Risk_Recurring_Falls              0\n",
       "Count_Of_Risks                    0\n",
       "Length: 69, dtype: int64"
      ]
     },
     "execution_count": 10,
     "metadata": {},
     "output_type": "execute_result"
    }
   ],
   "source": [
    "dataf.isnull().sum()"
   ]
  },
  {
   "cell_type": "code",
   "execution_count": 11,
   "id": "surprised-chase",
   "metadata": {
    "execution": {
     "iopub.execute_input": "2021-05-18T19:48:49.981195Z",
     "iopub.status.busy": "2021-05-18T19:48:49.980488Z",
     "iopub.status.idle": "2021-05-18T19:48:49.987965Z",
     "shell.execute_reply": "2021-05-18T19:48:49.988566Z"
    },
    "id": "VsAVusJEoA5h",
    "outputId": "ea67c59c-788b-430c-d870-3ca022e1b279",
    "papermill": {
     "duration": 0.059348,
     "end_time": "2021-05-18T19:48:49.988768",
     "exception": false,
     "start_time": "2021-05-18T19:48:49.929420",
     "status": "completed"
    },
    "tags": []
   },
   "outputs": [
    {
     "data": {
      "text/plain": [
       "Persistency_Flag\n",
       "Non-Persistent    2135\n",
       "Persistent        1289\n",
       "dtype: int64"
      ]
     },
     "execution_count": 11,
     "metadata": {},
     "output_type": "execute_result"
    }
   ],
   "source": [
    "dataf.value_counts('Persistency_Flag')"
   ]
  },
  {
   "cell_type": "markdown",
   "id": "anticipated-swedish",
   "metadata": {
    "id": "CN7LLC3LaTTU",
    "papermill": {
     "duration": 0.048206,
     "end_time": "2021-05-18T19:48:50.085823",
     "exception": false,
     "start_time": "2021-05-18T19:48:50.037617",
     "status": "completed"
    },
    "tags": []
   },
   "source": [
    "##Exploratory Data Analysis"
   ]
  },
  {
   "cell_type": "code",
   "execution_count": 12,
   "id": "fifteen-error",
   "metadata": {
    "execution": {
     "iopub.execute_input": "2021-05-18T19:48:50.187273Z",
     "iopub.status.busy": "2021-05-18T19:48:50.186612Z",
     "iopub.status.idle": "2021-05-18T19:48:51.117093Z",
     "shell.execute_reply": "2021-05-18T19:48:51.116264Z"
    },
    "id": "_0jJJDz1enzO",
    "papermill": {
     "duration": 0.982056,
     "end_time": "2021-05-18T19:48:51.117261",
     "exception": false,
     "start_time": "2021-05-18T19:48:50.135205",
     "status": "completed"
    },
    "tags": []
   },
   "outputs": [],
   "source": [
    "import seaborn as sns"
   ]
  },
  {
   "cell_type": "code",
   "execution_count": 13,
   "id": "recorded-killer",
   "metadata": {
    "execution": {
     "iopub.execute_input": "2021-05-18T19:48:51.228305Z",
     "iopub.status.busy": "2021-05-18T19:48:51.225966Z",
     "iopub.status.idle": "2021-05-18T19:48:51.397327Z",
     "shell.execute_reply": "2021-05-18T19:48:51.396644Z"
    },
    "id": "hAaKe-cv9aMJ",
    "outputId": "c3898a11-7724-4bea-a316-1fd62a4b8d4d",
    "papermill": {
     "duration": 0.230161,
     "end_time": "2021-05-18T19:48:51.397512",
     "exception": false,
     "start_time": "2021-05-18T19:48:51.167351",
     "status": "completed"
    },
    "tags": []
   },
   "outputs": [
    {
     "data": {
      "text/plain": [
       "<AxesSubplot:xlabel='Persistency_Flag', ylabel='count'>"
      ]
     },
     "execution_count": 13,
     "metadata": {},
     "output_type": "execute_result"
    },
    {
     "data": {
      "image/png": "[encoded data removed]",
      "text/plain": [
       "<Figure size 432x288 with 1 Axes>"
      ]
     },
     "metadata": {
      "needs_background": "light"
     },
     "output_type": "display_data"
    }
   ],
   "source": [
    "sns.countplot(x=\"Persistency_Flag\",data=dataf, dodge=True)"
   ]
  },
  {
   "cell_type": "code",
   "execution_count": 14,
   "id": "nasty-canon",
   "metadata": {
    "execution": {
     "iopub.execute_input": "2021-05-18T19:48:51.510211Z",
     "iopub.status.busy": "2021-05-18T19:48:51.509001Z",
     "iopub.status.idle": "2021-05-18T19:48:51.668488Z",
     "shell.execute_reply": "2021-05-18T19:48:51.667861Z"
    },
    "id": "sy-w1IPVZEn7",
    "outputId": "47664890-49e9-46e5-ef16-0ea26446e79a",
    "papermill": {
     "duration": 0.220364,
     "end_time": "2021-05-18T19:48:51.668644",
     "exception": false,
     "start_time": "2021-05-18T19:48:51.448280",
     "status": "completed"
    },
    "tags": []
   },
   "outputs": [
    {
     "data": {
      "text/plain": [
       "<AxesSubplot:xlabel='Persistency_Flag', ylabel='count'>"
      ]
     },
     "execution_count": 14,
     "metadata": {},
     "output_type": "execute_result"
    },
    {
     "data": {
      "image/png": "[encoded data removed]",
      "text/plain": [
       "<Figure size 432x288 with 1 Axes>"
      ]
     },
     "metadata": {
      "needs_background": "light"
     },
     "output_type": "display_data"
    }
   ],
   "source": [
    "sns.countplot(x=\"Persistency_Flag\",hue='Tscore_Bucket_Prior_Ntm', data=dataf)"
   ]
  },
  {
   "cell_type": "code",
   "execution_count": 15,
   "id": "hollywood-watch",
   "metadata": {
    "execution": {
     "iopub.execute_input": "2021-05-18T19:48:51.782849Z",
     "iopub.status.busy": "2021-05-18T19:48:51.780124Z",
     "iopub.status.idle": "2021-05-18T19:48:51.954704Z",
     "shell.execute_reply": "2021-05-18T19:48:51.954090Z"
    },
    "id": "BdbCOpgeZxZ4",
    "outputId": "3a131399-d272-41ae-f1ce-f9af4ccef746",
    "papermill": {
     "duration": 0.235178,
     "end_time": "2021-05-18T19:48:51.954871",
     "exception": false,
     "start_time": "2021-05-18T19:48:51.719693",
     "status": "completed"
    },
    "tags": []
   },
   "outputs": [
    {
     "data": {
      "text/plain": [
       "<AxesSubplot:xlabel='Persistency_Flag', ylabel='count'>"
      ]
     },
     "execution_count": 15,
     "metadata": {},
     "output_type": "execute_result"
    },
    {
     "data": {
      "image/png": "[encoded data removed]",
      "text/plain": [
       "<Figure size 432x288 with 1 Axes>"
      ]
     },
     "metadata": {
      "needs_background": "light"
     },
     "output_type": "display_data"
    }
   ],
   "source": [
    "sns.countplot(x=\"Persistency_Flag\",hue='Adherent_Flag', data=dataf)"
   ]
  },
  {
   "cell_type": "code",
   "execution_count": 16,
   "id": "numerous-supervision",
   "metadata": {
    "execution": {
     "iopub.execute_input": "2021-05-18T19:48:52.076405Z",
     "iopub.status.busy": "2021-05-18T19:48:52.075300Z",
     "iopub.status.idle": "2021-05-18T19:48:52.242367Z",
     "shell.execute_reply": "2021-05-18T19:48:52.242856Z"
    },
    "id": "wP5FlqoQZ-TB",
    "outputId": "a3de93de-78c0-4ff3-eaa8-d0ad0a9b8575",
    "papermill": {
     "duration": 0.233815,
     "end_time": "2021-05-18T19:48:52.243053",
     "exception": false,
     "start_time": "2021-05-18T19:48:52.009238",
     "status": "completed"
    },
    "tags": []
   },
   "outputs": [
    {
     "data": {
      "text/plain": [
       "<AxesSubplot:xlabel='Persistency_Flag', ylabel='count'>"
      ]
     },
     "execution_count": 16,
     "metadata": {},
     "output_type": "execute_result"
    },
    {
     "data": {
      "image/png": "[encoded data removed]",
      "text/plain": [
       "<Figure size 432x288 with 1 Axes>"
      ]
     },
     "metadata": {
      "needs_background": "light"
     },
     "output_type": "display_data"
    }
   ],
   "source": [
    "sns.countplot(x=\"Persistency_Flag\",hue='Injectable_Experience_During_Rx', data=dataf)"
   ]
  },
  {
   "cell_type": "code",
   "execution_count": 17,
   "id": "cheap-divorce",
   "metadata": {
    "execution": {
     "iopub.execute_input": "2021-05-18T19:48:52.366573Z",
     "iopub.status.busy": "2021-05-18T19:48:52.363225Z",
     "iopub.status.idle": "2021-05-18T19:48:52.536601Z",
     "shell.execute_reply": "2021-05-18T19:48:52.535965Z"
    },
    "id": "iEq8xllT9i_1",
    "outputId": "19c88ae7-abb9-446c-ef92-35626b222c5c",
    "papermill": {
     "duration": 0.238535,
     "end_time": "2021-05-18T19:48:52.536788",
     "exception": false,
     "start_time": "2021-05-18T19:48:52.298253",
     "status": "completed"
    },
    "tags": []
   },
   "outputs": [
    {
     "data": {
      "text/plain": [
       "<AxesSubplot:xlabel='Persistency_Flag', ylabel='count'>"
      ]
     },
     "execution_count": 17,
     "metadata": {},
     "output_type": "execute_result"
    },
    {
     "data": {
      "image/png": "[encoded data removed]",
      "text/plain": [
       "<Figure size 432x288 with 1 Axes>"
      ]
     },
     "metadata": {
      "needs_background": "light"
     },
     "output_type": "display_data"
    }
   ],
   "source": [
    "sns.countplot(x=\"Persistency_Flag\", hue='Age_Bucket', data=dataf)"
   ]
  },
  {
   "cell_type": "code",
   "execution_count": 18,
   "id": "increasing-diary",
   "metadata": {
    "execution": {
     "iopub.execute_input": "2021-05-18T19:48:52.659429Z",
     "iopub.status.busy": "2021-05-18T19:48:52.658732Z",
     "iopub.status.idle": "2021-05-18T19:48:52.824843Z",
     "shell.execute_reply": "2021-05-18T19:48:52.824084Z"
    },
    "id": "c8_Chlzo-bAd",
    "outputId": "920debd2-b0ad-4303-cc9e-8ce3aa4265a2",
    "papermill": {
     "duration": 0.230626,
     "end_time": "2021-05-18T19:48:52.825011",
     "exception": false,
     "start_time": "2021-05-18T19:48:52.594385",
     "status": "completed"
    },
    "tags": []
   },
   "outputs": [
    {
     "data": {
      "text/plain": [
       "<AxesSubplot:xlabel='Persistency_Flag', ylabel='count'>"
      ]
     },
     "execution_count": 18,
     "metadata": {},
     "output_type": "execute_result"
    },
    {
     "data": {
      "image/png": "[encoded data removed]",
      "text/plain": [
       "<Figure size 432x288 with 1 Axes>"
      ]
     },
     "metadata": {
      "needs_background": "light"
     },
     "output_type": "display_data"
    }
   ],
   "source": [
    "sns.countplot(x=\"Persistency_Flag\", hue='Gender', data=dataf)"
   ]
  },
  {
   "cell_type": "code",
   "execution_count": 19,
   "id": "lucky-medicare",
   "metadata": {
    "execution": {
     "iopub.execute_input": "2021-05-18T19:48:52.950714Z",
     "iopub.status.busy": "2021-05-18T19:48:52.949946Z",
     "iopub.status.idle": "2021-05-18T19:48:53.206290Z",
     "shell.execute_reply": "2021-05-18T19:48:53.204357Z"
    },
    "id": "-swqEhCBK-_Z",
    "outputId": "9427dd04-c4bd-4f92-b38f-841a64c749fc",
    "papermill": {
     "duration": 0.322627,
     "end_time": "2021-05-18T19:48:53.206504",
     "exception": false,
     "start_time": "2021-05-18T19:48:52.883877",
     "status": "completed"
    },
    "tags": []
   },
   "outputs": [
    {
     "data": {
      "text/plain": [
       "<AxesSubplot:xlabel='Persistency_Flag', ylabel='count'>"
      ]
     },
     "execution_count": 19,
     "metadata": {},
     "output_type": "execute_result"
    },
    {
     "data": {
      "image/png": "[encoded data removed]",
      "text/plain": [
       "<Figure size 432x288 with 1 Axes>"
      ]
     },
     "metadata": {
      "needs_background": "light"
     },
     "output_type": "display_data"
    }
   ],
   "source": [
    "sns.countplot(x=\"Persistency_Flag\", hue='Count_Of_Risks', data=dataf)"
   ]
  },
  {
   "cell_type": "markdown",
   "id": "described-aruba",
   "metadata": {
    "id": "n9NYIHd9Y4d6",
    "papermill": {
     "duration": 0.058398,
     "end_time": "2021-05-18T19:48:53.326266",
     "exception": false,
     "start_time": "2021-05-18T19:48:53.267868",
     "status": "completed"
    },
    "tags": []
   },
   "source": [
    "##Seperating input variables and target variables"
   ]
  },
  {
   "cell_type": "code",
   "execution_count": 20,
   "id": "color-monaco",
   "metadata": {
    "execution": {
     "iopub.execute_input": "2021-05-18T19:48:53.450713Z",
     "iopub.status.busy": "2021-05-18T19:48:53.450013Z",
     "iopub.status.idle": "2021-05-18T19:48:53.456840Z",
     "shell.execute_reply": "2021-05-18T19:48:53.456292Z"
    },
    "id": "kQnvxMheLnnN",
    "papermill": {
     "duration": 0.0712,
     "end_time": "2021-05-18T19:48:53.456992",
     "exception": false,
     "start_time": "2021-05-18T19:48:53.385792",
     "status": "completed"
    },
    "tags": []
   },
   "outputs": [],
   "source": [
    "X = dataf.drop(columns='Persistency_Flag')\n",
    "y = dataf['Persistency_Flag']"
   ]
  },
  {
   "cell_type": "code",
   "execution_count": 21,
   "id": "improved-surge",
   "metadata": {
    "execution": {
     "iopub.execute_input": "2021-05-18T19:48:53.613921Z",
     "iopub.status.busy": "2021-05-18T19:48:53.613107Z",
     "iopub.status.idle": "2021-05-18T19:48:53.618354Z",
     "shell.execute_reply": "2021-05-18T19:48:53.617687Z"
    },
    "id": "MQ4sp7ZIc3FJ",
    "outputId": "e5ae8386-ba3a-4ef7-d0c7-65e41175b4d3",
    "papermill": {
     "duration": 0.097209,
     "end_time": "2021-05-18T19:48:53.618509",
     "exception": false,
     "start_time": "2021-05-18T19:48:53.521300",
     "status": "completed"
    },
    "tags": []
   },
   "outputs": [
    {
     "data": {
      "text/html": [
       "<div>\n",
       "<style scoped>\n",
       "    .dataframe tbody tr th:only-of-type {\n",
       "        vertical-align: middle;\n",
       "    }\n",
       "\n",
       "    .dataframe tbody tr th {\n",
       "        vertical-align: top;\n",
       "    }\n",
       "\n",
       "    .dataframe thead th {\n",
       "        text-align: right;\n",
       "    }\n",
       "</style>\n",
       "<table border=\"1\" class=\"dataframe\">\n",
       "  <thead>\n",
       "    <tr style=\"text-align: right;\">\n",
       "      <th></th>\n",
       "      <th>Ptid</th>\n",
       "      <th>Gender</th>\n",
       "      <th>Race</th>\n",
       "      <th>Ethnicity</th>\n",
       "      <th>Region</th>\n",
       "      <th>Age_Bucket</th>\n",
       "      <th>Ntm_Speciality</th>\n",
       "      <th>Ntm_Specialist_Flag</th>\n",
       "      <th>Ntm_Speciality_Bucket</th>\n",
       "      <th>Gluco_Record_Prior_Ntm</th>\n",
       "      <th>...</th>\n",
       "      <th>Risk_Family_History_Of_Osteoporosis</th>\n",
       "      <th>Risk_Low_Calcium_Intake</th>\n",
       "      <th>Risk_Vitamin_D_Insufficiency</th>\n",
       "      <th>Risk_Poor_Health_Frailty</th>\n",
       "      <th>Risk_Excessive_Thinness</th>\n",
       "      <th>Risk_Hysterectomy_Oophorectomy</th>\n",
       "      <th>Risk_Estrogen_Deficiency</th>\n",
       "      <th>Risk_Immobilization</th>\n",
       "      <th>Risk_Recurring_Falls</th>\n",
       "      <th>Count_Of_Risks</th>\n",
       "    </tr>\n",
       "  </thead>\n",
       "  <tbody>\n",
       "    <tr>\n",
       "      <th>0</th>\n",
       "      <td>P1</td>\n",
       "      <td>Male</td>\n",
       "      <td>Caucasian</td>\n",
       "      <td>Not Hispanic</td>\n",
       "      <td>West</td>\n",
       "      <td>&gt;75</td>\n",
       "      <td>GENERAL PRACTITIONER</td>\n",
       "      <td>Others</td>\n",
       "      <td>OB/GYN/Others/PCP/Unknown</td>\n",
       "      <td>N</td>\n",
       "      <td>...</td>\n",
       "      <td>N</td>\n",
       "      <td>N</td>\n",
       "      <td>N</td>\n",
       "      <td>N</td>\n",
       "      <td>N</td>\n",
       "      <td>N</td>\n",
       "      <td>N</td>\n",
       "      <td>N</td>\n",
       "      <td>N</td>\n",
       "      <td>0</td>\n",
       "    </tr>\n",
       "    <tr>\n",
       "      <th>1</th>\n",
       "      <td>P2</td>\n",
       "      <td>Male</td>\n",
       "      <td>Asian</td>\n",
       "      <td>Not Hispanic</td>\n",
       "      <td>West</td>\n",
       "      <td>55-65</td>\n",
       "      <td>GENERAL PRACTITIONER</td>\n",
       "      <td>Others</td>\n",
       "      <td>OB/GYN/Others/PCP/Unknown</td>\n",
       "      <td>N</td>\n",
       "      <td>...</td>\n",
       "      <td>N</td>\n",
       "      <td>N</td>\n",
       "      <td>N</td>\n",
       "      <td>N</td>\n",
       "      <td>N</td>\n",
       "      <td>N</td>\n",
       "      <td>N</td>\n",
       "      <td>N</td>\n",
       "      <td>N</td>\n",
       "      <td>0</td>\n",
       "    </tr>\n",
       "    <tr>\n",
       "      <th>2</th>\n",
       "      <td>P3</td>\n",
       "      <td>Female</td>\n",
       "      <td>Other/Unknown</td>\n",
       "      <td>Hispanic</td>\n",
       "      <td>Midwest</td>\n",
       "      <td>65-75</td>\n",
       "      <td>GENERAL PRACTITIONER</td>\n",
       "      <td>Others</td>\n",
       "      <td>OB/GYN/Others/PCP/Unknown</td>\n",
       "      <td>N</td>\n",
       "      <td>...</td>\n",
       "      <td>N</td>\n",
       "      <td>Y</td>\n",
       "      <td>N</td>\n",
       "      <td>N</td>\n",
       "      <td>N</td>\n",
       "      <td>N</td>\n",
       "      <td>N</td>\n",
       "      <td>N</td>\n",
       "      <td>N</td>\n",
       "      <td>2</td>\n",
       "    </tr>\n",
       "    <tr>\n",
       "      <th>3</th>\n",
       "      <td>P4</td>\n",
       "      <td>Female</td>\n",
       "      <td>Caucasian</td>\n",
       "      <td>Not Hispanic</td>\n",
       "      <td>Midwest</td>\n",
       "      <td>&gt;75</td>\n",
       "      <td>GENERAL PRACTITIONER</td>\n",
       "      <td>Others</td>\n",
       "      <td>OB/GYN/Others/PCP/Unknown</td>\n",
       "      <td>N</td>\n",
       "      <td>...</td>\n",
       "      <td>N</td>\n",
       "      <td>N</td>\n",
       "      <td>N</td>\n",
       "      <td>N</td>\n",
       "      <td>N</td>\n",
       "      <td>N</td>\n",
       "      <td>N</td>\n",
       "      <td>N</td>\n",
       "      <td>N</td>\n",
       "      <td>1</td>\n",
       "    </tr>\n",
       "    <tr>\n",
       "      <th>4</th>\n",
       "      <td>P5</td>\n",
       "      <td>Female</td>\n",
       "      <td>Caucasian</td>\n",
       "      <td>Not Hispanic</td>\n",
       "      <td>Midwest</td>\n",
       "      <td>&gt;75</td>\n",
       "      <td>GENERAL PRACTITIONER</td>\n",
       "      <td>Others</td>\n",
       "      <td>OB/GYN/Others/PCP/Unknown</td>\n",
       "      <td>Y</td>\n",
       "      <td>...</td>\n",
       "      <td>N</td>\n",
       "      <td>N</td>\n",
       "      <td>N</td>\n",
       "      <td>N</td>\n",
       "      <td>N</td>\n",
       "      <td>N</td>\n",
       "      <td>N</td>\n",
       "      <td>N</td>\n",
       "      <td>N</td>\n",
       "      <td>1</td>\n",
       "    </tr>\n",
       "  </tbody>\n",
       "</table>\n",
       "<p>5 rows × 68 columns</p>\n",
       "</div>"
      ],
      "text/plain": [
       "  Ptid  Gender           Race     Ethnicity   Region Age_Bucket  \\\n",
       "0   P1    Male      Caucasian  Not Hispanic     West        >75   \n",
       "1   P2    Male          Asian  Not Hispanic     West      55-65   \n",
       "2   P3  Female  Other/Unknown      Hispanic  Midwest      65-75   \n",
       "3   P4  Female      Caucasian  Not Hispanic  Midwest        >75   \n",
       "4   P5  Female      Caucasian  Not Hispanic  Midwest        >75   \n",
       "\n",
       "         Ntm_Speciality Ntm_Specialist_Flag      Ntm_Speciality_Bucket  \\\n",
       "0  GENERAL PRACTITIONER              Others  OB/GYN/Others/PCP/Unknown   \n",
       "1  GENERAL PRACTITIONER              Others  OB/GYN/Others/PCP/Unknown   \n",
       "2  GENERAL PRACTITIONER              Others  OB/GYN/Others/PCP/Unknown   \n",
       "3  GENERAL PRACTITIONER              Others  OB/GYN/Others/PCP/Unknown   \n",
       "4  GENERAL PRACTITIONER              Others  OB/GYN/Others/PCP/Unknown   \n",
       "\n",
       "  Gluco_Record_Prior_Ntm  ... Risk_Family_History_Of_Osteoporosis  \\\n",
       "0                      N  ...                                   N   \n",
       "1                      N  ...                                   N   \n",
       "2                      N  ...                                   N   \n",
       "3                      N  ...                                   N   \n",
       "4                      Y  ...                                   N   \n",
       "\n",
       "   Risk_Low_Calcium_Intake Risk_Vitamin_D_Insufficiency  \\\n",
       "0                        N                            N   \n",
       "1                        N                            N   \n",
       "2                        Y                            N   \n",
       "3                        N                            N   \n",
       "4                        N                            N   \n",
       "\n",
       "  Risk_Poor_Health_Frailty Risk_Excessive_Thinness  \\\n",
       "0                        N                       N   \n",
       "1                        N                       N   \n",
       "2                        N                       N   \n",
       "3                        N                       N   \n",
       "4                        N                       N   \n",
       "\n",
       "  Risk_Hysterectomy_Oophorectomy Risk_Estrogen_Deficiency Risk_Immobilization  \\\n",
       "0                              N                        N                   N   \n",
       "1                              N                        N                   N   \n",
       "2                              N                        N                   N   \n",
       "3                              N                        N                   N   \n",
       "4                              N                        N                   N   \n",
       "\n",
       "  Risk_Recurring_Falls Count_Of_Risks  \n",
       "0                    N              0  \n",
       "1                    N              0  \n",
       "2                    N              2  \n",
       "3                    N              1  \n",
       "4                    N              1  \n",
       "\n",
       "[5 rows x 68 columns]"
      ]
     },
     "execution_count": 21,
     "metadata": {},
     "output_type": "execute_result"
    }
   ],
   "source": [
    "X.head()"
   ]
  },
  {
   "cell_type": "code",
   "execution_count": 22,
   "id": "indie-frank",
   "metadata": {
    "execution": {
     "iopub.execute_input": "2021-05-18T19:48:53.746190Z",
     "iopub.status.busy": "2021-05-18T19:48:53.745291Z",
     "iopub.status.idle": "2021-05-18T19:48:53.749644Z",
     "shell.execute_reply": "2021-05-18T19:48:53.748988Z"
    },
    "id": "U98XF6updLus",
    "outputId": "d43c3c74-ac7c-40e1-91c8-3be6846d8954",
    "papermill": {
     "duration": 0.070629,
     "end_time": "2021-05-18T19:48:53.749783",
     "exception": false,
     "start_time": "2021-05-18T19:48:53.679154",
     "status": "completed"
    },
    "tags": []
   },
   "outputs": [
    {
     "data": {
      "text/plain": [
       "0        Persistent\n",
       "1    Non-Persistent\n",
       "2    Non-Persistent\n",
       "3    Non-Persistent\n",
       "4    Non-Persistent\n",
       "Name: Persistency_Flag, dtype: object"
      ]
     },
     "execution_count": 22,
     "metadata": {},
     "output_type": "execute_result"
    }
   ],
   "source": [
    "y.head()"
   ]
  },
  {
   "cell_type": "code",
   "execution_count": 23,
   "id": "velvet-instrumentation",
   "metadata": {
    "execution": {
     "iopub.execute_input": "2021-05-18T19:48:53.870612Z",
     "iopub.status.busy": "2021-05-18T19:48:53.869864Z",
     "iopub.status.idle": "2021-05-18T19:48:53.875202Z",
     "shell.execute_reply": "2021-05-18T19:48:53.874338Z"
    },
    "id": "tIHgIDjddOxN",
    "outputId": "b0aa9b04-82c3-47a3-f45b-55e05c017932",
    "papermill": {
     "duration": 0.068278,
     "end_time": "2021-05-18T19:48:53.875379",
     "exception": false,
     "start_time": "2021-05-18T19:48:53.807101",
     "status": "completed"
    },
    "tags": []
   },
   "outputs": [
    {
     "name": "stdout",
     "output_type": "stream",
     "text": [
      "(3424, 68)\n",
      "(3424,)\n"
     ]
    }
   ],
   "source": [
    "print(X.shape)\n",
    "print(y.shape)"
   ]
  },
  {
   "cell_type": "code",
   "execution_count": 24,
   "id": "welsh-tours",
   "metadata": {
    "execution": {
     "iopub.execute_input": "2021-05-18T19:48:54.002482Z",
     "iopub.status.busy": "2021-05-18T19:48:54.001732Z",
     "iopub.status.idle": "2021-05-18T19:48:54.332776Z",
     "shell.execute_reply": "2021-05-18T19:48:54.331966Z"
    },
    "id": "poInZFgzdT_V",
    "papermill": {
     "duration": 0.397145,
     "end_time": "2021-05-18T19:48:54.332973",
     "exception": false,
     "start_time": "2021-05-18T19:48:53.935828",
     "status": "completed"
    },
    "tags": []
   },
   "outputs": [],
   "source": [
    "from sklearn.preprocessing import LabelEncoder"
   ]
  },
  {
   "cell_type": "code",
   "execution_count": 25,
   "id": "computational-tragedy",
   "metadata": {
    "execution": {
     "iopub.execute_input": "2021-05-18T19:48:54.459160Z",
     "iopub.status.busy": "2021-05-18T19:48:54.458483Z",
     "iopub.status.idle": "2021-05-18T19:48:54.460851Z",
     "shell.execute_reply": "2021-05-18T19:48:54.460205Z"
    },
    "id": "KfBAKuzxdxGb",
    "papermill": {
     "duration": 0.068499,
     "end_time": "2021-05-18T19:48:54.461006",
     "exception": false,
     "start_time": "2021-05-18T19:48:54.392507",
     "status": "completed"
    },
    "tags": []
   },
   "outputs": [],
   "source": [
    "le = LabelEncoder()\n",
    "target = le.fit_transform(np.ravel(y))"
   ]
  },
  {
   "cell_type": "markdown",
   "id": "suspected-toyota",
   "metadata": {
    "id": "XuAraNvUYvRk",
    "papermill": {
     "duration": 0.058648,
     "end_time": "2021-05-18T19:48:54.580584",
     "exception": false,
     "start_time": "2021-05-18T19:48:54.521936",
     "status": "completed"
    },
    "tags": []
   },
   "source": [
    "##Encoded target variable"
   ]
  },
  {
   "cell_type": "code",
   "execution_count": 26,
   "id": "incorporate-castle",
   "metadata": {
    "execution": {
     "iopub.execute_input": "2021-05-18T19:48:54.703898Z",
     "iopub.status.busy": "2021-05-18T19:48:54.703160Z",
     "iopub.status.idle": "2021-05-18T19:48:54.705879Z",
     "shell.execute_reply": "2021-05-18T19:48:54.706344Z"
    },
    "id": "_vFQIP-EehO2",
    "outputId": "17d45aba-605c-41e2-a1f8-d0c912aa936f",
    "papermill": {
     "duration": 0.067197,
     "end_time": "2021-05-18T19:48:54.706558",
     "exception": false,
     "start_time": "2021-05-18T19:48:54.639361",
     "status": "completed"
    },
    "tags": []
   },
   "outputs": [
    {
     "data": {
      "text/plain": [
       "array([1, 0, 0, ..., 1, 0, 0])"
      ]
     },
     "execution_count": 26,
     "metadata": {},
     "output_type": "execute_result"
    }
   ],
   "source": [
    "target"
   ]
  },
  {
   "cell_type": "markdown",
   "id": "dynamic-entrepreneur",
   "metadata": {
    "id": "9bVJwH77dj2s",
    "papermill": {
     "duration": 0.059934,
     "end_time": "2021-05-18T19:48:54.825219",
     "exception": false,
     "start_time": "2021-05-18T19:48:54.765285",
     "status": "completed"
    },
    "tags": []
   },
   "source": [
    "##Target Class\n",
    "Class \"1\" is Persistent\\\n",
    "Class \"0\" is Non-Persistent"
   ]
  },
  {
   "cell_type": "markdown",
   "id": "critical-recovery",
   "metadata": {
    "id": "D1tUghOlX_K8",
    "papermill": {
     "duration": 0.058973,
     "end_time": "2021-05-18T19:48:54.943313",
     "exception": false,
     "start_time": "2021-05-18T19:48:54.884340",
     "status": "completed"
    },
    "tags": []
   },
   "source": [
    "##Label Encoder for Non-Numeric columns"
   ]
  },
  {
   "cell_type": "code",
   "execution_count": 27,
   "id": "gorgeous-honolulu",
   "metadata": {
    "execution": {
     "iopub.execute_input": "2021-05-18T19:48:55.066863Z",
     "iopub.status.busy": "2021-05-18T19:48:55.066116Z",
     "iopub.status.idle": "2021-05-18T19:48:55.079469Z",
     "shell.execute_reply": "2021-05-18T19:48:55.080215Z"
    },
    "id": "VsQyTfmvHJWv",
    "papermill": {
     "duration": 0.077647,
     "end_time": "2021-05-18T19:48:55.080478",
     "exception": false,
     "start_time": "2021-05-18T19:48:55.002831",
     "status": "completed"
    },
    "tags": []
   },
   "outputs": [],
   "source": [
    "from sklearn.preprocessing import LabelEncoder\n",
    "from sklearn.pipeline import Pipeline\n",
    "\n",
    "class MultiColumnLabelEncoder:\n",
    "    def __init__(self,columns = None):\n",
    "        self.columns = columns # array of column names to encode\n",
    "\n",
    "    def fit(self,X,y=None):\n",
    "        return self # not relevant here\n",
    "\n",
    "    def transform(self,X):\n",
    "        #Transforms columns of X specified in self.columns using LabelEncoder().\n",
    "        #If no columns specified, transforms all columns in X.\n",
    "        \n",
    "        output = X.copy()\n",
    "        if self.columns is not None:\n",
    "            for col in self.columns:\n",
    "                output[col] = LabelEncoder().fit_transform(output[col])\n",
    "        else:\n",
    "            for colname,col in output.iteritems():\n",
    "                output[colname] = LabelEncoder().fit_transform(col)\n",
    "        return output\n",
    "\n",
    "    def fit_transform(self,X,y=None):\n",
    "        return self.fit(X,y).transform(X)"
   ]
  },
  {
   "cell_type": "code",
   "execution_count": 28,
   "id": "attempted-number",
   "metadata": {
    "execution": {
     "iopub.execute_input": "2021-05-18T19:48:55.210190Z",
     "iopub.status.busy": "2021-05-18T19:48:55.209043Z",
     "iopub.status.idle": "2021-05-18T19:48:55.357026Z",
     "shell.execute_reply": "2021-05-18T19:48:55.356260Z"
    },
    "id": "802i9RPVNdYZ",
    "papermill": {
     "duration": 0.215927,
     "end_time": "2021-05-18T19:48:55.357185",
     "exception": false,
     "start_time": "2021-05-18T19:48:55.141258",
     "status": "completed"
    },
    "tags": []
   },
   "outputs": [],
   "source": [
    "New_dataF = MultiColumnLabelEncoder(columns = ['Ptid', 'Gender', 'Race', 'Ethnicity', 'Region', 'Age_Bucket', 'Ntm_Speciality', 'Ntm_Specialist_Flag', 'Ntm_Speciality_Bucket', 'Gluco_Record_Prior_Ntm', 'Gluco_Record_During_Rx', 'Dexa_During_Rx', 'Frag_Frac_Prior_Ntm', 'Frag_Frac_During_Rx', 'Risk_Segment_Prior_Ntm', 'Tscore_Bucket_Prior_Ntm', 'Risk_Segment_During_Rx', 'Tscore_Bucket_During_Rx', 'Change_T_Score', 'Change_Risk_Segment', 'Adherent_Flag', 'Idn_Indicator', 'Injectable_Experience_During_Rx', 'Comorb_Encounter_For_Screening_For_Malignant_Neoplasms', 'Comorb_Encounter_For_Immunization', 'Comorb_Encntr_For_General_Exam_W_O_Complaint,_Susp_Or_Reprtd_Dx', 'Comorb_Vitamin_D_Deficiency', 'Comorb_Other_Joint_Disorder_Not_Elsewhere_Classified', 'Comorb_Encntr_For_Oth_Sp_Exam_W_O_Complaint_Suspected_Or_Reprtd_Dx', 'Comorb_Long_Term_Current_Drug_Therapy', 'Comorb_Dorsalgia', 'Comorb_Personal_History_Of_Other_Diseases_And_Conditions', 'Comorb_Other_Disorders_Of_Bone_Density_And_Structure', 'Comorb_Disorders_of_lipoprotein_metabolism_and_other_lipidemias', 'Comorb_Osteoporosis_without_current_pathological_fracture', 'Comorb_Personal_history_of_malignant_neoplasm', 'Comorb_Gastro_esophageal_reflux_disease', 'Concom_Cholesterol_And_Triglyceride_Regulating_Preparations', 'Concom_Narcotics', 'Concom_Systemic_Corticosteroids_Plain', 'Concom_Anti_Depressants_And_Mood_Stabilisers', 'Concom_Fluoroquinolones', 'Concom_Cephalosporins', 'Concom_Macrolides_And_Similar_Types', 'Concom_Broad_Spectrum_Penicillins', 'Concom_Anaesthetics_General', 'Concom_Viral_Vaccines', 'Risk_Type_1_Insulin_Dependent_Diabetes', 'Risk_Osteogenesis_Imperfecta', 'Risk_Rheumatoid_Arthritis', 'Risk_Untreated_Chronic_Hyperthyroidism', 'Risk_Untreated_Chronic_Hypogonadism', 'Risk_Untreated_Early_Menopause', 'Risk_Patient_Parent_Fractured_Their_Hip', 'Risk_Smoking_Tobacco', 'Risk_Chronic_Malnutrition_Or_Malabsorption', 'Risk_Chronic_Liver_Disease', 'Risk_Family_History_Of_Osteoporosis', 'Risk_Low_Calcium_Intake', 'Risk_Vitamin_D_Insufficiency', 'Risk_Poor_Health_Frailty', 'Risk_Excessive_Thinness', 'Risk_Hysterectomy_Oophorectomy', 'Risk_Estrogen_Deficiency', 'Risk_Immobilization', 'Risk_Recurring_Falls']).fit_transform(X)"
   ]
  },
  {
   "cell_type": "markdown",
   "id": "early-light",
   "metadata": {
    "id": "G5pWDct0YmXE",
    "papermill": {
     "duration": 0.059413,
     "end_time": "2021-05-18T19:48:55.476612",
     "exception": false,
     "start_time": "2021-05-18T19:48:55.417199",
     "status": "completed"
    },
    "tags": []
   },
   "source": [
    "##New dataframe after label encoding"
   ]
  },
  {
   "cell_type": "code",
   "execution_count": 29,
   "id": "greater-michigan",
   "metadata": {
    "execution": {
     "iopub.execute_input": "2021-05-18T19:48:55.608051Z",
     "iopub.status.busy": "2021-05-18T19:48:55.603397Z",
     "iopub.status.idle": "2021-05-18T19:48:55.633122Z",
     "shell.execute_reply": "2021-05-18T19:48:55.632592Z"
    },
    "id": "usdJCmIiPDxq",
    "outputId": "fa897158-ff88-4aef-f87f-aafd0588ecd3",
    "papermill": {
     "duration": 0.096052,
     "end_time": "2021-05-18T19:48:55.633288",
     "exception": false,
     "start_time": "2021-05-18T19:48:55.537236",
     "status": "completed"
    },
    "tags": []
   },
   "outputs": [
    {
     "data": {
      "text/html": [
       "<div>\n",
       "<style scoped>\n",
       "    .dataframe tbody tr th:only-of-type {\n",
       "        vertical-align: middle;\n",
       "    }\n",
       "\n",
       "    .dataframe tbody tr th {\n",
       "        vertical-align: top;\n",
       "    }\n",
       "\n",
       "    .dataframe thead th {\n",
       "        text-align: right;\n",
       "    }\n",
       "</style>\n",
       "<table border=\"1\" class=\"dataframe\">\n",
       "  <thead>\n",
       "    <tr style=\"text-align: right;\">\n",
       "      <th></th>\n",
       "      <th>Ptid</th>\n",
       "      <th>Gender</th>\n",
       "      <th>Race</th>\n",
       "      <th>Ethnicity</th>\n",
       "      <th>Region</th>\n",
       "      <th>Age_Bucket</th>\n",
       "      <th>Ntm_Speciality</th>\n",
       "      <th>Ntm_Specialist_Flag</th>\n",
       "      <th>Ntm_Speciality_Bucket</th>\n",
       "      <th>Gluco_Record_Prior_Ntm</th>\n",
       "      <th>...</th>\n",
       "      <th>Risk_Family_History_Of_Osteoporosis</th>\n",
       "      <th>Risk_Low_Calcium_Intake</th>\n",
       "      <th>Risk_Vitamin_D_Insufficiency</th>\n",
       "      <th>Risk_Poor_Health_Frailty</th>\n",
       "      <th>Risk_Excessive_Thinness</th>\n",
       "      <th>Risk_Hysterectomy_Oophorectomy</th>\n",
       "      <th>Risk_Estrogen_Deficiency</th>\n",
       "      <th>Risk_Immobilization</th>\n",
       "      <th>Risk_Recurring_Falls</th>\n",
       "      <th>Count_Of_Risks</th>\n",
       "    </tr>\n",
       "  </thead>\n",
       "  <tbody>\n",
       "    <tr>\n",
       "      <th>0</th>\n",
       "      <td>0</td>\n",
       "      <td>1</td>\n",
       "      <td>2</td>\n",
       "      <td>1</td>\n",
       "      <td>4</td>\n",
       "      <td>3</td>\n",
       "      <td>5</td>\n",
       "      <td>0</td>\n",
       "      <td>1</td>\n",
       "      <td>0</td>\n",
       "      <td>...</td>\n",
       "      <td>0</td>\n",
       "      <td>0</td>\n",
       "      <td>0</td>\n",
       "      <td>0</td>\n",
       "      <td>0</td>\n",
       "      <td>0</td>\n",
       "      <td>0</td>\n",
       "      <td>0</td>\n",
       "      <td>0</td>\n",
       "      <td>0</td>\n",
       "    </tr>\n",
       "    <tr>\n",
       "      <th>1</th>\n",
       "      <td>1111</td>\n",
       "      <td>1</td>\n",
       "      <td>1</td>\n",
       "      <td>1</td>\n",
       "      <td>4</td>\n",
       "      <td>0</td>\n",
       "      <td>5</td>\n",
       "      <td>0</td>\n",
       "      <td>1</td>\n",
       "      <td>0</td>\n",
       "      <td>...</td>\n",
       "      <td>0</td>\n",
       "      <td>0</td>\n",
       "      <td>0</td>\n",
       "      <td>0</td>\n",
       "      <td>0</td>\n",
       "      <td>0</td>\n",
       "      <td>0</td>\n",
       "      <td>0</td>\n",
       "      <td>0</td>\n",
       "      <td>0</td>\n",
       "    </tr>\n",
       "    <tr>\n",
       "      <th>2</th>\n",
       "      <td>2222</td>\n",
       "      <td>0</td>\n",
       "      <td>3</td>\n",
       "      <td>0</td>\n",
       "      <td>0</td>\n",
       "      <td>1</td>\n",
       "      <td>5</td>\n",
       "      <td>0</td>\n",
       "      <td>1</td>\n",
       "      <td>0</td>\n",
       "      <td>...</td>\n",
       "      <td>0</td>\n",
       "      <td>1</td>\n",
       "      <td>0</td>\n",
       "      <td>0</td>\n",
       "      <td>0</td>\n",
       "      <td>0</td>\n",
       "      <td>0</td>\n",
       "      <td>0</td>\n",
       "      <td>0</td>\n",
       "      <td>2</td>\n",
       "    </tr>\n",
       "    <tr>\n",
       "      <th>3</th>\n",
       "      <td>2758</td>\n",
       "      <td>0</td>\n",
       "      <td>2</td>\n",
       "      <td>1</td>\n",
       "      <td>0</td>\n",
       "      <td>3</td>\n",
       "      <td>5</td>\n",
       "      <td>0</td>\n",
       "      <td>1</td>\n",
       "      <td>0</td>\n",
       "      <td>...</td>\n",
       "      <td>0</td>\n",
       "      <td>0</td>\n",
       "      <td>0</td>\n",
       "      <td>0</td>\n",
       "      <td>0</td>\n",
       "      <td>0</td>\n",
       "      <td>0</td>\n",
       "      <td>0</td>\n",
       "      <td>0</td>\n",
       "      <td>1</td>\n",
       "    </tr>\n",
       "    <tr>\n",
       "      <th>4</th>\n",
       "      <td>2869</td>\n",
       "      <td>0</td>\n",
       "      <td>2</td>\n",
       "      <td>1</td>\n",
       "      <td>0</td>\n",
       "      <td>3</td>\n",
       "      <td>5</td>\n",
       "      <td>0</td>\n",
       "      <td>1</td>\n",
       "      <td>1</td>\n",
       "      <td>...</td>\n",
       "      <td>0</td>\n",
       "      <td>0</td>\n",
       "      <td>0</td>\n",
       "      <td>0</td>\n",
       "      <td>0</td>\n",
       "      <td>0</td>\n",
       "      <td>0</td>\n",
       "      <td>0</td>\n",
       "      <td>0</td>\n",
       "      <td>1</td>\n",
       "    </tr>\n",
       "    <tr>\n",
       "      <th>5</th>\n",
       "      <td>2980</td>\n",
       "      <td>0</td>\n",
       "      <td>2</td>\n",
       "      <td>1</td>\n",
       "      <td>0</td>\n",
       "      <td>3</td>\n",
       "      <td>5</td>\n",
       "      <td>0</td>\n",
       "      <td>1</td>\n",
       "      <td>0</td>\n",
       "      <td>...</td>\n",
       "      <td>1</td>\n",
       "      <td>0</td>\n",
       "      <td>0</td>\n",
       "      <td>0</td>\n",
       "      <td>0</td>\n",
       "      <td>0</td>\n",
       "      <td>0</td>\n",
       "      <td>0</td>\n",
       "      <td>0</td>\n",
       "      <td>2</td>\n",
       "    </tr>\n",
       "    <tr>\n",
       "      <th>6</th>\n",
       "      <td>3091</td>\n",
       "      <td>0</td>\n",
       "      <td>2</td>\n",
       "      <td>1</td>\n",
       "      <td>0</td>\n",
       "      <td>3</td>\n",
       "      <td>5</td>\n",
       "      <td>0</td>\n",
       "      <td>1</td>\n",
       "      <td>0</td>\n",
       "      <td>...</td>\n",
       "      <td>0</td>\n",
       "      <td>0</td>\n",
       "      <td>0</td>\n",
       "      <td>0</td>\n",
       "      <td>0</td>\n",
       "      <td>0</td>\n",
       "      <td>0</td>\n",
       "      <td>0</td>\n",
       "      <td>0</td>\n",
       "      <td>1</td>\n",
       "    </tr>\n",
       "    <tr>\n",
       "      <th>7</th>\n",
       "      <td>3202</td>\n",
       "      <td>0</td>\n",
       "      <td>2</td>\n",
       "      <td>1</td>\n",
       "      <td>0</td>\n",
       "      <td>3</td>\n",
       "      <td>5</td>\n",
       "      <td>0</td>\n",
       "      <td>1</td>\n",
       "      <td>1</td>\n",
       "      <td>...</td>\n",
       "      <td>0</td>\n",
       "      <td>0</td>\n",
       "      <td>0</td>\n",
       "      <td>0</td>\n",
       "      <td>0</td>\n",
       "      <td>0</td>\n",
       "      <td>0</td>\n",
       "      <td>0</td>\n",
       "      <td>0</td>\n",
       "      <td>1</td>\n",
       "    </tr>\n",
       "    <tr>\n",
       "      <th>8</th>\n",
       "      <td>3313</td>\n",
       "      <td>0</td>\n",
       "      <td>2</td>\n",
       "      <td>1</td>\n",
       "      <td>0</td>\n",
       "      <td>3</td>\n",
       "      <td>5</td>\n",
       "      <td>0</td>\n",
       "      <td>1</td>\n",
       "      <td>0</td>\n",
       "      <td>...</td>\n",
       "      <td>1</td>\n",
       "      <td>0</td>\n",
       "      <td>0</td>\n",
       "      <td>0</td>\n",
       "      <td>0</td>\n",
       "      <td>0</td>\n",
       "      <td>0</td>\n",
       "      <td>0</td>\n",
       "      <td>0</td>\n",
       "      <td>1</td>\n",
       "    </tr>\n",
       "    <tr>\n",
       "      <th>9</th>\n",
       "      <td>1</td>\n",
       "      <td>0</td>\n",
       "      <td>2</td>\n",
       "      <td>1</td>\n",
       "      <td>0</td>\n",
       "      <td>3</td>\n",
       "      <td>5</td>\n",
       "      <td>0</td>\n",
       "      <td>1</td>\n",
       "      <td>0</td>\n",
       "      <td>...</td>\n",
       "      <td>0</td>\n",
       "      <td>0</td>\n",
       "      <td>0</td>\n",
       "      <td>0</td>\n",
       "      <td>0</td>\n",
       "      <td>0</td>\n",
       "      <td>0</td>\n",
       "      <td>0</td>\n",
       "      <td>0</td>\n",
       "      <td>1</td>\n",
       "    </tr>\n",
       "  </tbody>\n",
       "</table>\n",
       "<p>10 rows × 68 columns</p>\n",
       "</div>"
      ],
      "text/plain": [
       "   Ptid  Gender  Race  Ethnicity  Region  Age_Bucket  Ntm_Speciality  \\\n",
       "0     0       1     2          1       4           3               5   \n",
       "1  1111       1     1          1       4           0               5   \n",
       "2  2222       0     3          0       0           1               5   \n",
       "3  2758       0     2          1       0           3               5   \n",
       "4  2869       0     2          1       0           3               5   \n",
       "5  2980       0     2          1       0           3               5   \n",
       "6  3091       0     2          1       0           3               5   \n",
       "7  3202       0     2          1       0           3               5   \n",
       "8  3313       0     2          1       0           3               5   \n",
       "9     1       0     2          1       0           3               5   \n",
       "\n",
       "   Ntm_Specialist_Flag  Ntm_Speciality_Bucket  Gluco_Record_Prior_Ntm  ...  \\\n",
       "0                    0                      1                       0  ...   \n",
       "1                    0                      1                       0  ...   \n",
       "2                    0                      1                       0  ...   \n",
       "3                    0                      1                       0  ...   \n",
       "4                    0                      1                       1  ...   \n",
       "5                    0                      1                       0  ...   \n",
       "6                    0                      1                       0  ...   \n",
       "7                    0                      1                       1  ...   \n",
       "8                    0                      1                       0  ...   \n",
       "9                    0                      1                       0  ...   \n",
       "\n",
       "   Risk_Family_History_Of_Osteoporosis  Risk_Low_Calcium_Intake  \\\n",
       "0                                    0                        0   \n",
       "1                                    0                        0   \n",
       "2                                    0                        1   \n",
       "3                                    0                        0   \n",
       "4                                    0                        0   \n",
       "5                                    1                        0   \n",
       "6                                    0                        0   \n",
       "7                                    0                        0   \n",
       "8                                    1                        0   \n",
       "9                                    0                        0   \n",
       "\n",
       "   Risk_Vitamin_D_Insufficiency  Risk_Poor_Health_Frailty  \\\n",
       "0                             0                         0   \n",
       "1                             0                         0   \n",
       "2                             0                         0   \n",
       "3                             0                         0   \n",
       "4                             0                         0   \n",
       "5                             0                         0   \n",
       "6                             0                         0   \n",
       "7                             0                         0   \n",
       "8                             0                         0   \n",
       "9                             0                         0   \n",
       "\n",
       "   Risk_Excessive_Thinness  Risk_Hysterectomy_Oophorectomy  \\\n",
       "0                        0                               0   \n",
       "1                        0                               0   \n",
       "2                        0                               0   \n",
       "3                        0                               0   \n",
       "4                        0                               0   \n",
       "5                        0                               0   \n",
       "6                        0                               0   \n",
       "7                        0                               0   \n",
       "8                        0                               0   \n",
       "9                        0                               0   \n",
       "\n",
       "   Risk_Estrogen_Deficiency  Risk_Immobilization  Risk_Recurring_Falls  \\\n",
       "0                         0                    0                     0   \n",
       "1                         0                    0                     0   \n",
       "2                         0                    0                     0   \n",
       "3                         0                    0                     0   \n",
       "4                         0                    0                     0   \n",
       "5                         0                    0                     0   \n",
       "6                         0                    0                     0   \n",
       "7                         0                    0                     0   \n",
       "8                         0                    0                     0   \n",
       "9                         0                    0                     0   \n",
       "\n",
       "   Count_Of_Risks  \n",
       "0               0  \n",
       "1               0  \n",
       "2               2  \n",
       "3               1  \n",
       "4               1  \n",
       "5               2  \n",
       "6               1  \n",
       "7               1  \n",
       "8               1  \n",
       "9               1  \n",
       "\n",
       "[10 rows x 68 columns]"
      ]
     },
     "execution_count": 29,
     "metadata": {},
     "output_type": "execute_result"
    }
   ],
   "source": [
    "New_dataF.head(10)"
   ]
  },
  {
   "cell_type": "code",
   "execution_count": 30,
   "id": "documented-seller",
   "metadata": {
    "execution": {
     "iopub.execute_input": "2021-05-18T19:48:55.763179Z",
     "iopub.status.busy": "2021-05-18T19:48:55.762502Z",
     "iopub.status.idle": "2021-05-18T19:48:55.787476Z",
     "shell.execute_reply": "2021-05-18T19:48:55.788067Z"
    },
    "id": "jUzoeAFUPgzz",
    "outputId": "f59cbffe-276a-4a00-dab2-a75f96f9d427",
    "papermill": {
     "duration": 0.093581,
     "end_time": "2021-05-18T19:48:55.788285",
     "exception": false,
     "start_time": "2021-05-18T19:48:55.694704",
     "status": "completed"
    },
    "tags": []
   },
   "outputs": [
    {
     "data": {
      "text/html": [
       "<div>\n",
       "<style scoped>\n",
       "    .dataframe tbody tr th:only-of-type {\n",
       "        vertical-align: middle;\n",
       "    }\n",
       "\n",
       "    .dataframe tbody tr th {\n",
       "        vertical-align: top;\n",
       "    }\n",
       "\n",
       "    .dataframe thead th {\n",
       "        text-align: right;\n",
       "    }\n",
       "</style>\n",
       "<table border=\"1\" class=\"dataframe\">\n",
       "  <thead>\n",
       "    <tr style=\"text-align: right;\">\n",
       "      <th></th>\n",
       "      <th>Ptid</th>\n",
       "      <th>Gender</th>\n",
       "      <th>Race</th>\n",
       "      <th>Ethnicity</th>\n",
       "      <th>Region</th>\n",
       "      <th>Age_Bucket</th>\n",
       "      <th>Ntm_Speciality</th>\n",
       "      <th>Ntm_Specialist_Flag</th>\n",
       "      <th>Ntm_Speciality_Bucket</th>\n",
       "      <th>Gluco_Record_Prior_Ntm</th>\n",
       "      <th>...</th>\n",
       "      <th>Risk_Family_History_Of_Osteoporosis</th>\n",
       "      <th>Risk_Low_Calcium_Intake</th>\n",
       "      <th>Risk_Vitamin_D_Insufficiency</th>\n",
       "      <th>Risk_Poor_Health_Frailty</th>\n",
       "      <th>Risk_Excessive_Thinness</th>\n",
       "      <th>Risk_Hysterectomy_Oophorectomy</th>\n",
       "      <th>Risk_Estrogen_Deficiency</th>\n",
       "      <th>Risk_Immobilization</th>\n",
       "      <th>Risk_Recurring_Falls</th>\n",
       "      <th>Count_Of_Risks</th>\n",
       "    </tr>\n",
       "  </thead>\n",
       "  <tbody>\n",
       "    <tr>\n",
       "      <th>3414</th>\n",
       "      <td>2685</td>\n",
       "      <td>0</td>\n",
       "      <td>2</td>\n",
       "      <td>1</td>\n",
       "      <td>3</td>\n",
       "      <td>3</td>\n",
       "      <td>5</td>\n",
       "      <td>0</td>\n",
       "      <td>1</td>\n",
       "      <td>1</td>\n",
       "      <td>...</td>\n",
       "      <td>0</td>\n",
       "      <td>0</td>\n",
       "      <td>0</td>\n",
       "      <td>0</td>\n",
       "      <td>0</td>\n",
       "      <td>0</td>\n",
       "      <td>0</td>\n",
       "      <td>0</td>\n",
       "      <td>0</td>\n",
       "      <td>0</td>\n",
       "    </tr>\n",
       "    <tr>\n",
       "      <th>3415</th>\n",
       "      <td>2686</td>\n",
       "      <td>0</td>\n",
       "      <td>2</td>\n",
       "      <td>1</td>\n",
       "      <td>3</td>\n",
       "      <td>3</td>\n",
       "      <td>19</td>\n",
       "      <td>0</td>\n",
       "      <td>1</td>\n",
       "      <td>0</td>\n",
       "      <td>...</td>\n",
       "      <td>0</td>\n",
       "      <td>0</td>\n",
       "      <td>0</td>\n",
       "      <td>1</td>\n",
       "      <td>0</td>\n",
       "      <td>0</td>\n",
       "      <td>0</td>\n",
       "      <td>0</td>\n",
       "      <td>0</td>\n",
       "      <td>1</td>\n",
       "    </tr>\n",
       "    <tr>\n",
       "      <th>3416</th>\n",
       "      <td>2687</td>\n",
       "      <td>0</td>\n",
       "      <td>2</td>\n",
       "      <td>1</td>\n",
       "      <td>3</td>\n",
       "      <td>3</td>\n",
       "      <td>5</td>\n",
       "      <td>0</td>\n",
       "      <td>1</td>\n",
       "      <td>0</td>\n",
       "      <td>...</td>\n",
       "      <td>0</td>\n",
       "      <td>0</td>\n",
       "      <td>0</td>\n",
       "      <td>0</td>\n",
       "      <td>0</td>\n",
       "      <td>0</td>\n",
       "      <td>0</td>\n",
       "      <td>0</td>\n",
       "      <td>0</td>\n",
       "      <td>2</td>\n",
       "    </tr>\n",
       "    <tr>\n",
       "      <th>3417</th>\n",
       "      <td>2688</td>\n",
       "      <td>0</td>\n",
       "      <td>2</td>\n",
       "      <td>1</td>\n",
       "      <td>3</td>\n",
       "      <td>0</td>\n",
       "      <td>34</td>\n",
       "      <td>0</td>\n",
       "      <td>1</td>\n",
       "      <td>0</td>\n",
       "      <td>...</td>\n",
       "      <td>0</td>\n",
       "      <td>0</td>\n",
       "      <td>1</td>\n",
       "      <td>0</td>\n",
       "      <td>0</td>\n",
       "      <td>0</td>\n",
       "      <td>0</td>\n",
       "      <td>0</td>\n",
       "      <td>0</td>\n",
       "      <td>1</td>\n",
       "    </tr>\n",
       "    <tr>\n",
       "      <th>3418</th>\n",
       "      <td>2689</td>\n",
       "      <td>0</td>\n",
       "      <td>2</td>\n",
       "      <td>1</td>\n",
       "      <td>3</td>\n",
       "      <td>1</td>\n",
       "      <td>34</td>\n",
       "      <td>0</td>\n",
       "      <td>1</td>\n",
       "      <td>1</td>\n",
       "      <td>...</td>\n",
       "      <td>0</td>\n",
       "      <td>0</td>\n",
       "      <td>1</td>\n",
       "      <td>0</td>\n",
       "      <td>0</td>\n",
       "      <td>0</td>\n",
       "      <td>0</td>\n",
       "      <td>0</td>\n",
       "      <td>0</td>\n",
       "      <td>1</td>\n",
       "    </tr>\n",
       "    <tr>\n",
       "      <th>3419</th>\n",
       "      <td>2691</td>\n",
       "      <td>0</td>\n",
       "      <td>2</td>\n",
       "      <td>1</td>\n",
       "      <td>3</td>\n",
       "      <td>3</td>\n",
       "      <td>5</td>\n",
       "      <td>0</td>\n",
       "      <td>1</td>\n",
       "      <td>0</td>\n",
       "      <td>...</td>\n",
       "      <td>0</td>\n",
       "      <td>0</td>\n",
       "      <td>1</td>\n",
       "      <td>0</td>\n",
       "      <td>0</td>\n",
       "      <td>0</td>\n",
       "      <td>0</td>\n",
       "      <td>0</td>\n",
       "      <td>0</td>\n",
       "      <td>1</td>\n",
       "    </tr>\n",
       "    <tr>\n",
       "      <th>3420</th>\n",
       "      <td>2692</td>\n",
       "      <td>0</td>\n",
       "      <td>2</td>\n",
       "      <td>1</td>\n",
       "      <td>3</td>\n",
       "      <td>3</td>\n",
       "      <td>34</td>\n",
       "      <td>0</td>\n",
       "      <td>1</td>\n",
       "      <td>0</td>\n",
       "      <td>...</td>\n",
       "      <td>0</td>\n",
       "      <td>0</td>\n",
       "      <td>0</td>\n",
       "      <td>0</td>\n",
       "      <td>0</td>\n",
       "      <td>0</td>\n",
       "      <td>0</td>\n",
       "      <td>0</td>\n",
       "      <td>0</td>\n",
       "      <td>0</td>\n",
       "    </tr>\n",
       "    <tr>\n",
       "      <th>3421</th>\n",
       "      <td>2693</td>\n",
       "      <td>0</td>\n",
       "      <td>2</td>\n",
       "      <td>1</td>\n",
       "      <td>3</td>\n",
       "      <td>3</td>\n",
       "      <td>3</td>\n",
       "      <td>1</td>\n",
       "      <td>0</td>\n",
       "      <td>0</td>\n",
       "      <td>...</td>\n",
       "      <td>0</td>\n",
       "      <td>0</td>\n",
       "      <td>1</td>\n",
       "      <td>0</td>\n",
       "      <td>0</td>\n",
       "      <td>0</td>\n",
       "      <td>0</td>\n",
       "      <td>0</td>\n",
       "      <td>0</td>\n",
       "      <td>1</td>\n",
       "    </tr>\n",
       "    <tr>\n",
       "      <th>3422</th>\n",
       "      <td>2694</td>\n",
       "      <td>0</td>\n",
       "      <td>2</td>\n",
       "      <td>1</td>\n",
       "      <td>3</td>\n",
       "      <td>0</td>\n",
       "      <td>34</td>\n",
       "      <td>0</td>\n",
       "      <td>1</td>\n",
       "      <td>0</td>\n",
       "      <td>...</td>\n",
       "      <td>0</td>\n",
       "      <td>0</td>\n",
       "      <td>0</td>\n",
       "      <td>0</td>\n",
       "      <td>0</td>\n",
       "      <td>0</td>\n",
       "      <td>0</td>\n",
       "      <td>0</td>\n",
       "      <td>0</td>\n",
       "      <td>0</td>\n",
       "    </tr>\n",
       "    <tr>\n",
       "      <th>3423</th>\n",
       "      <td>2695</td>\n",
       "      <td>0</td>\n",
       "      <td>2</td>\n",
       "      <td>1</td>\n",
       "      <td>3</td>\n",
       "      <td>1</td>\n",
       "      <td>34</td>\n",
       "      <td>0</td>\n",
       "      <td>1</td>\n",
       "      <td>1</td>\n",
       "      <td>...</td>\n",
       "      <td>0</td>\n",
       "      <td>0</td>\n",
       "      <td>1</td>\n",
       "      <td>0</td>\n",
       "      <td>0</td>\n",
       "      <td>0</td>\n",
       "      <td>0</td>\n",
       "      <td>0</td>\n",
       "      <td>0</td>\n",
       "      <td>1</td>\n",
       "    </tr>\n",
       "  </tbody>\n",
       "</table>\n",
       "<p>10 rows × 68 columns</p>\n",
       "</div>"
      ],
      "text/plain": [
       "      Ptid  Gender  Race  Ethnicity  Region  Age_Bucket  Ntm_Speciality  \\\n",
       "3414  2685       0     2          1       3           3               5   \n",
       "3415  2686       0     2          1       3           3              19   \n",
       "3416  2687       0     2          1       3           3               5   \n",
       "3417  2688       0     2          1       3           0              34   \n",
       "3418  2689       0     2          1       3           1              34   \n",
       "3419  2691       0     2          1       3           3               5   \n",
       "3420  2692       0     2          1       3           3              34   \n",
       "3421  2693       0     2          1       3           3               3   \n",
       "3422  2694       0     2          1       3           0              34   \n",
       "3423  2695       0     2          1       3           1              34   \n",
       "\n",
       "      Ntm_Specialist_Flag  Ntm_Speciality_Bucket  Gluco_Record_Prior_Ntm  ...  \\\n",
       "3414                    0                      1                       1  ...   \n",
       "3415                    0                      1                       0  ...   \n",
       "3416                    0                      1                       0  ...   \n",
       "3417                    0                      1                       0  ...   \n",
       "3418                    0                      1                       1  ...   \n",
       "3419                    0                      1                       0  ...   \n",
       "3420                    0                      1                       0  ...   \n",
       "3421                    1                      0                       0  ...   \n",
       "3422                    0                      1                       0  ...   \n",
       "3423                    0                      1                       1  ...   \n",
       "\n",
       "      Risk_Family_History_Of_Osteoporosis  Risk_Low_Calcium_Intake  \\\n",
       "3414                                    0                        0   \n",
       "3415                                    0                        0   \n",
       "3416                                    0                        0   \n",
       "3417                                    0                        0   \n",
       "3418                                    0                        0   \n",
       "3419                                    0                        0   \n",
       "3420                                    0                        0   \n",
       "3421                                    0                        0   \n",
       "3422                                    0                        0   \n",
       "3423                                    0                        0   \n",
       "\n",
       "      Risk_Vitamin_D_Insufficiency  Risk_Poor_Health_Frailty  \\\n",
       "3414                             0                         0   \n",
       "3415                             0                         1   \n",
       "3416                             0                         0   \n",
       "3417                             1                         0   \n",
       "3418                             1                         0   \n",
       "3419                             1                         0   \n",
       "3420                             0                         0   \n",
       "3421                             1                         0   \n",
       "3422                             0                         0   \n",
       "3423                             1                         0   \n",
       "\n",
       "      Risk_Excessive_Thinness  Risk_Hysterectomy_Oophorectomy  \\\n",
       "3414                        0                               0   \n",
       "3415                        0                               0   \n",
       "3416                        0                               0   \n",
       "3417                        0                               0   \n",
       "3418                        0                               0   \n",
       "3419                        0                               0   \n",
       "3420                        0                               0   \n",
       "3421                        0                               0   \n",
       "3422                        0                               0   \n",
       "3423                        0                               0   \n",
       "\n",
       "      Risk_Estrogen_Deficiency  Risk_Immobilization  Risk_Recurring_Falls  \\\n",
       "3414                         0                    0                     0   \n",
       "3415                         0                    0                     0   \n",
       "3416                         0                    0                     0   \n",
       "3417                         0                    0                     0   \n",
       "3418                         0                    0                     0   \n",
       "3419                         0                    0                     0   \n",
       "3420                         0                    0                     0   \n",
       "3421                         0                    0                     0   \n",
       "3422                         0                    0                     0   \n",
       "3423                         0                    0                     0   \n",
       "\n",
       "      Count_Of_Risks  \n",
       "3414               0  \n",
       "3415               1  \n",
       "3416               2  \n",
       "3417               1  \n",
       "3418               1  \n",
       "3419               1  \n",
       "3420               0  \n",
       "3421               1  \n",
       "3422               0  \n",
       "3423               1  \n",
       "\n",
       "[10 rows x 68 columns]"
      ]
     },
     "execution_count": 30,
     "metadata": {},
     "output_type": "execute_result"
    }
   ],
   "source": [
    "New_dataF.tail(10)"
   ]
  },
  {
   "cell_type": "code",
   "execution_count": 31,
   "id": "sublime-power",
   "metadata": {
    "execution": {
     "iopub.execute_input": "2021-05-18T19:48:55.925924Z",
     "iopub.status.busy": "2021-05-18T19:48:55.924924Z",
     "iopub.status.idle": "2021-05-18T19:48:55.930203Z",
     "shell.execute_reply": "2021-05-18T19:48:55.929334Z"
    },
    "id": "LCM_loRHPqav",
    "outputId": "1e419f6a-735a-4e9b-f298-0f3d24106d8b",
    "papermill": {
     "duration": 0.072127,
     "end_time": "2021-05-18T19:48:55.930402",
     "exception": false,
     "start_time": "2021-05-18T19:48:55.858275",
     "status": "completed"
    },
    "tags": []
   },
   "outputs": [
    {
     "data": {
      "text/plain": [
       "3424"
      ]
     },
     "execution_count": 31,
     "metadata": {},
     "output_type": "execute_result"
    }
   ],
   "source": [
    "New_dataF['Ptid'].nunique()"
   ]
  },
  {
   "cell_type": "markdown",
   "id": "organized-boating",
   "metadata": {
    "id": "mwUt5u9XYRUO",
    "papermill": {
     "duration": 0.061862,
     "end_time": "2021-05-18T19:48:56.058401",
     "exception": false,
     "start_time": "2021-05-18T19:48:55.996539",
     "status": "completed"
    },
    "tags": []
   },
   "source": [
    "##Splitting of data into Training and Testing dataset for ML Models"
   ]
  },
  {
   "cell_type": "code",
   "execution_count": 32,
   "id": "individual-arrest",
   "metadata": {
    "execution": {
     "iopub.execute_input": "2021-05-18T19:48:56.188814Z",
     "iopub.status.busy": "2021-05-18T19:48:56.187999Z",
     "iopub.status.idle": "2021-05-18T19:48:56.359481Z",
     "shell.execute_reply": "2021-05-18T19:48:56.358802Z"
    },
    "id": "TXILMTDQP0Rw",
    "papermill": {
     "duration": 0.239873,
     "end_time": "2021-05-18T19:48:56.359662",
     "exception": false,
     "start_time": "2021-05-18T19:48:56.119789",
     "status": "completed"
    },
    "tags": []
   },
   "outputs": [],
   "source": [
    "##Important packages importing\n",
    "from sklearn.linear_model import LogisticRegression\n",
    "from sklearn.model_selection import train_test_split\n",
    "from sklearn.metrics import roc_curve, roc_auc_score\n",
    "from matplotlib import pyplot\n",
    "from sklearn.metrics import classification_report, confusion_matrix"
   ]
  },
  {
   "cell_type": "code",
   "execution_count": 33,
   "id": "every-dominant",
   "metadata": {
    "execution": {
     "iopub.execute_input": "2021-05-18T19:48:56.496440Z",
     "iopub.status.busy": "2021-05-18T19:48:56.494918Z",
     "iopub.status.idle": "2021-05-18T19:48:56.507118Z",
     "shell.execute_reply": "2021-05-18T19:48:56.506352Z"
    },
    "id": "ojnRPCG4P4PR",
    "papermill": {
     "duration": 0.083234,
     "end_time": "2021-05-18T19:48:56.507283",
     "exception": false,
     "start_time": "2021-05-18T19:48:56.424049",
     "status": "completed"
    },
    "tags": []
   },
   "outputs": [],
   "source": [
    "train_X, test_X, train_y, test_y = train_test_split(New_dataF, target, test_size=0.3, random_state=42)"
   ]
  },
  {
   "cell_type": "markdown",
   "id": "growing-customs",
   "metadata": {
    "id": "TsrVM_dFQKU7",
    "papermill": {
     "duration": 0.062429,
     "end_time": "2021-05-18T19:48:56.635872",
     "exception": false,
     "start_time": "2021-05-18T19:48:56.573443",
     "status": "completed"
    },
    "tags": []
   },
   "source": [
    "##Hypothesis Testing for Classification Models\n",
    "###Steps:\n",
    "The first step would be to to state the null hypothesis statement.\\\n",
    "H0: Both models have the same performance on the dataset.\\\n",
    "H1: Both models doesn’t have the same performance on the dataset.\\\n",
    "Level of significance is 0.05"
   ]
  },
  {
   "cell_type": "markdown",
   "id": "million-paintball",
   "metadata": {
    "id": "bKtr1SntRW-9",
    "papermill": {
     "duration": 0.062924,
     "end_time": "2021-05-18T19:48:56.761591",
     "exception": false,
     "start_time": "2021-05-18T19:48:56.698667",
     "status": "completed"
    },
    "tags": []
   },
   "source": [
    "##Logistic Regression Model"
   ]
  },
  {
   "cell_type": "code",
   "execution_count": 34,
   "id": "fresh-louisville",
   "metadata": {
    "execution": {
     "iopub.execute_input": "2021-05-18T19:48:56.897929Z",
     "iopub.status.busy": "2021-05-18T19:48:56.896563Z",
     "iopub.status.idle": "2021-05-18T19:48:57.744767Z",
     "shell.execute_reply": "2021-05-18T19:48:57.745613Z"
    },
    "id": "1TUon4nuQjdt",
    "outputId": "6d5fe5e0-234d-447c-f71a-b751a70cc2f6",
    "papermill": {
     "duration": 0.921112,
     "end_time": "2021-05-18T19:48:57.745912",
     "exception": false,
     "start_time": "2021-05-18T19:48:56.824800",
     "status": "completed"
    },
    "tags": []
   },
   "outputs": [
    {
     "data": {
      "text/plain": [
       "LogisticRegression(solver='newton-cg')"
      ]
     },
     "execution_count": 34,
     "metadata": {},
     "output_type": "execute_result"
    }
   ],
   "source": [
    "# Logistic Regression\n",
    "# fit a model\n",
    "model = LogisticRegression(solver='newton-cg')#, max_iter=3000, penalty='elasticnet',l1_ratio=1)\n",
    "model.fit(train_X, train_y)"
   ]
  },
  {
   "cell_type": "code",
   "execution_count": 35,
   "id": "proud-access",
   "metadata": {
    "execution": {
     "iopub.execute_input": "2021-05-18T19:48:57.930856Z",
     "iopub.status.busy": "2021-05-18T19:48:57.929721Z",
     "iopub.status.idle": "2021-05-18T19:48:57.938665Z",
     "shell.execute_reply": "2021-05-18T19:48:57.939667Z"
    },
    "id": "yaV6EUfvPPK4",
    "outputId": "fe3bae3a-cd4a-4c93-c682-50472e712360",
    "papermill": {
     "duration": 0.083357,
     "end_time": "2021-05-18T19:48:57.939970",
     "exception": false,
     "start_time": "2021-05-18T19:48:57.856613",
     "status": "completed"
    },
    "tags": []
   },
   "outputs": [
    {
     "name": "stdout",
     "output_type": "stream",
     "text": [
      "Using Logistic Regression Model- Accuracy on Test Dataset is 81.22568093385215 %\n"
     ]
    }
   ],
   "source": [
    "# Accuracy on Testing Dataset using Logistic Regression\n",
    "score_LR = model.score(test_X, test_y)\n",
    "print(\"Using Logistic Regression Model- Accuracy on Test Dataset is\", score_LR*100, \"%\")"
   ]
  },
  {
   "cell_type": "markdown",
   "id": "divided-investigation",
   "metadata": {
    "id": "hR-jLAYbRcbI",
    "papermill": {
     "duration": 0.067163,
     "end_time": "2021-05-18T19:48:58.124665",
     "exception": false,
     "start_time": "2021-05-18T19:48:58.057502",
     "status": "completed"
    },
    "tags": []
   },
   "source": [
    "##Support Vector Machine Model"
   ]
  },
  {
   "cell_type": "code",
   "execution_count": 36,
   "id": "molecular-hepatitis",
   "metadata": {
    "execution": {
     "iopub.execute_input": "2021-05-18T19:48:58.263863Z",
     "iopub.status.busy": "2021-05-18T19:48:58.262852Z",
     "iopub.status.idle": "2021-05-18T19:48:58.264861Z",
     "shell.execute_reply": "2021-05-18T19:48:58.265295Z"
    },
    "id": "jgCBQUZjOY-Y",
    "papermill": {
     "duration": 0.074287,
     "end_time": "2021-05-18T19:48:58.265490",
     "exception": false,
     "start_time": "2021-05-18T19:48:58.191203",
     "status": "completed"
    },
    "tags": []
   },
   "outputs": [],
   "source": [
    "#Import Library\n",
    "from sklearn import svm\n",
    "import pandas as pd\n",
    "from sklearn.metrics import accuracy_score\n",
    "import warnings\n",
    "warnings.filterwarnings('ignore')"
   ]
  },
  {
   "cell_type": "code",
   "execution_count": 37,
   "id": "developed-destruction",
   "metadata": {
    "execution": {
     "iopub.execute_input": "2021-05-18T19:48:58.394580Z",
     "iopub.status.busy": "2021-05-18T19:48:58.393625Z",
     "iopub.status.idle": "2021-05-18T19:48:58.655730Z",
     "shell.execute_reply": "2021-05-18T19:48:58.656674Z"
    },
    "id": "V-004e4bOaPC",
    "outputId": "81f0cf4c-457f-4980-b89f-030d74ed4dad",
    "papermill": {
     "duration": 0.328987,
     "end_time": "2021-05-18T19:48:58.656959",
     "exception": false,
     "start_time": "2021-05-18T19:48:58.327972",
     "status": "completed"
    },
    "tags": []
   },
   "outputs": [
    {
     "name": "stdout",
     "output_type": "stream",
     "text": [
      "Using Support Vector Machine Model- Accuracy on Test Dataset is 74.5136186770428 %\n"
     ]
    }
   ],
   "source": [
    "# Create Linear SVM object\n",
    "support = svm.LinearSVC(random_state=20)\n",
    "\n",
    "# Train the model using the training sets and check score on test dataset\n",
    "support.fit(train_X, train_y)\n",
    "predicted= support.predict(test_X)\n",
    "score=accuracy_score(test_y,predicted)\n",
    "print(\"Using Support Vector Machine Model- Accuracy on Test Dataset is\", score*100, \"%\")"
   ]
  },
  {
   "cell_type": "markdown",
   "id": "hydraulic-journalist",
   "metadata": {
    "id": "bBn04tfjRsMZ",
    "papermill": {
     "duration": 0.065087,
     "end_time": "2021-05-18T19:48:58.834091",
     "exception": false,
     "start_time": "2021-05-18T19:48:58.769004",
     "status": "completed"
    },
    "tags": []
   },
   "source": [
    "##Hyposthesis Results\n",
    "It is clear that the accuracy of **Logistic Regression Model** is much better as compared to support vector machine on same dataset."
   ]
  },
  {
   "cell_type": "code",
   "execution_count": 38,
   "id": "previous-perception",
   "metadata": {
    "execution": {
     "iopub.execute_input": "2021-05-18T19:48:58.970011Z",
     "iopub.status.busy": "2021-05-18T19:48:58.968787Z",
     "iopub.status.idle": "2021-05-18T19:49:04.469513Z",
     "shell.execute_reply": "2021-05-18T19:49:04.470278Z"
    },
    "id": "Gi2rCM_ZSdwp",
    "outputId": "abc093f5-6781-4b6a-a157-cfb50c0f6d9c",
    "papermill": {
     "duration": 5.572558,
     "end_time": "2021-05-18T19:49:04.470585",
     "exception": false,
     "start_time": "2021-05-18T19:48:58.898027",
     "status": "completed"
    },
    "tags": []
   },
   "outputs": [
    {
     "name": "stdout",
     "output_type": "stream",
     "text": [
      "The P-value is = 0.307\n",
      "The t-statistics is = 1.136\n",
      "Since p>0.05, we cannot reject the null hypothesis.     \n",
      "We may conclude that the performance of the two algorithms is not significantly different.\n"
     ]
    }
   ],
   "source": [
    "from mlxtend.evaluate import paired_ttest_5x2cv\n",
    "# check if difference between algorithms is real\n",
    "t, p = paired_ttest_5x2cv(estimator1=model, \n",
    "                          estimator2=support, \n",
    "                          X=New_dataF, \n",
    "                          y=target, \n",
    "                          scoring='accuracy', \n",
    "                          random_seed=1)\n",
    "# summarize\n",
    "print(f'The P-value is = {p:.3f}')\n",
    "print(f'The t-statistics is = {t:.3f}')\n",
    "# interpret the result\n",
    "if p <= 0.05:\n",
    "    print('Since p<0.05, We can reject the null-hypothesis that both models perform equally well on this dataset. \\\n",
    "    \\nWe may conclude that the two algorithms are significantly different.')\n",
    "else:\n",
    "    print('Since p>0.05, we cannot reject the null hypothesis. \\\n",
    "    \\nWe may conclude that the performance of the two algorithms is not significantly different.')"
   ]
  },
  {
   "cell_type": "markdown",
   "id": "sudden-ribbon",
   "metadata": {
    "id": "OMrNlrbdUlml",
    "papermill": {
     "duration": 0.065534,
     "end_time": "2021-05-18T19:49:04.647654",
     "exception": false,
     "start_time": "2021-05-18T19:49:04.582120",
     "status": "completed"
    },
    "tags": []
   },
   "source": [
    "So, here our samples do not provide the enough evidence to conclude that the assume effect exists or does not exist."
   ]
  },
  {
   "cell_type": "markdown",
   "id": "successful-integer",
   "metadata": {
    "id": "vovis35wVhYv",
    "papermill": {
     "duration": 0.063077,
     "end_time": "2021-05-18T19:49:04.774145",
     "exception": false,
     "start_time": "2021-05-18T19:49:04.711068",
     "status": "completed"
    },
    "tags": []
   },
   "source": [
    "Here, I choose **Logistic Regression** over svm to calculate the all required details."
   ]
  },
  {
   "cell_type": "markdown",
   "id": "integral-belief",
   "metadata": {
    "id": "lzKJnM7KVxk4",
    "papermill": {
     "duration": 0.064169,
     "end_time": "2021-05-18T19:49:04.902002",
     "exception": false,
     "start_time": "2021-05-18T19:49:04.837833",
     "status": "completed"
    },
    "tags": []
   },
   "source": [
    "##ROC Curve and Area Under Curve"
   ]
  },
  {
   "cell_type": "code",
   "execution_count": 39,
   "id": "deluxe-providence",
   "metadata": {
    "execution": {
     "iopub.execute_input": "2021-05-18T19:49:05.040003Z",
     "iopub.status.busy": "2021-05-18T19:49:05.038949Z",
     "iopub.status.idle": "2021-05-18T19:49:05.264773Z",
     "shell.execute_reply": "2021-05-18T19:49:05.265295Z"
    },
    "id": "9QBjgXzEXMqu",
    "outputId": "1c48f1a9-135c-4270-d122-43c7f6f9a817",
    "papermill": {
     "duration": 0.299847,
     "end_time": "2021-05-18T19:49:05.265487",
     "exception": false,
     "start_time": "2021-05-18T19:49:04.965640",
     "status": "completed"
    },
    "tags": []
   },
   "outputs": [
    {
     "data": {
      "image/png": "[encoded data removed]",
      "text/plain": [
       "<Figure size 432x288 with 1 Axes>"
      ]
     },
     "metadata": {
      "needs_background": "light"
     },
     "output_type": "display_data"
    }
   ],
   "source": [
    "# predict probabilities\n",
    "yhat = model.predict_proba(test_X)\n",
    "\n",
    "# retrieve just the probabilities for the positive class\n",
    "pos_probs = yhat[:, 1]\n",
    "\n",
    "# plot no skill roc curve\n",
    "pyplot.plot([0, 1], [0, 1], linestyle='--', label='No Skill')\n",
    "# calculate roc curve for model\n",
    "fpr, tpr, _ = roc_curve(test_y, pos_probs)\n",
    "# plot model roc curve\n",
    "pyplot.plot(fpr, tpr, marker='.', label='Logistic')\n",
    "# axis labels\n",
    "pyplot.xlabel('False Positive Rate')\n",
    "pyplot.ylabel('True Positive Rate')\n",
    "# show the legend\n",
    "pyplot.legend()\n",
    "# show the plot\n",
    "pyplot.show()"
   ]
  },
  {
   "cell_type": "code",
   "execution_count": 40,
   "id": "retired-knowing",
   "metadata": {
    "execution": {
     "iopub.execute_input": "2021-05-18T19:49:05.401271Z",
     "iopub.status.busy": "2021-05-18T19:49:05.400608Z",
     "iopub.status.idle": "2021-05-18T19:49:05.416344Z",
     "shell.execute_reply": "2021-05-18T19:49:05.417381Z"
    },
    "id": "I0Rn5zfAuuJ2",
    "outputId": "512d43ee-dc00-470a-d6dc-4b9a1804902e",
    "papermill": {
     "duration": 0.087515,
     "end_time": "2021-05-18T19:49:05.417718",
     "exception": false,
     "start_time": "2021-05-18T19:49:05.330203",
     "status": "completed"
    },
    "tags": []
   },
   "outputs": [
    {
     "name": "stdout",
     "output_type": "stream",
     "text": [
      "Logistic ROC Area Under Curve 0.882\n"
     ]
    }
   ],
   "source": [
    "#Calculating ROC Area Under Curve\n",
    "yhat = model.predict_proba(test_X)\n",
    "pos_probs = yhat[:, 1]\n",
    "roc_auc = roc_auc_score(test_y, pos_probs)\n",
    "print('Logistic ROC Area Under Curve %.3f' % roc_auc)"
   ]
  },
  {
   "cell_type": "markdown",
   "id": "relevant-keeping",
   "metadata": {
    "id": "6Cn3KR3tV6Oc",
    "papermill": {
     "duration": 0.066,
     "end_time": "2021-05-18T19:49:05.597418",
     "exception": false,
     "start_time": "2021-05-18T19:49:05.531418",
     "status": "completed"
    },
    "tags": []
   },
   "source": [
    "##Coefficients of variables"
   ]
  },
  {
   "cell_type": "code",
   "execution_count": 41,
   "id": "guided-boxing",
   "metadata": {
    "execution": {
     "iopub.execute_input": "2021-05-18T19:49:05.734250Z",
     "iopub.status.busy": "2021-05-18T19:49:05.733561Z",
     "iopub.status.idle": "2021-05-18T19:49:05.737227Z",
     "shell.execute_reply": "2021-05-18T19:49:05.736581Z"
    },
    "id": "6SFvJ2pWf6Bh",
    "outputId": "141cfc99-1819-4a5a-f3e7-cb52093646b5",
    "papermill": {
     "duration": 0.074625,
     "end_time": "2021-05-18T19:49:05.737398",
     "exception": false,
     "start_time": "2021-05-18T19:49:05.662773",
     "status": "completed"
    },
    "tags": []
   },
   "outputs": [
    {
     "name": "stdout",
     "output_type": "stream",
     "text": [
      "Coefficients of all variables :  [[-1.16875895e-04  2.62311887e-01 -5.27357675e-02  2.95016773e-01\n",
      "   1.63444639e-01  9.57054113e-02  1.76457233e-02  1.36347692e-01\n",
      "  -2.76161792e-01 -5.02025251e-01  1.12461068e-01  1.98778738e-02\n",
      "   1.72507957e+00 -5.32202249e-01  5.61539673e-01 -2.79201774e-02\n",
      "   1.49371017e-01 -1.19534889e-01 -5.58696624e-02 -2.98322697e-01\n",
      "   3.61343958e-01  3.17736236e-01  3.35949094e-01  2.28738824e-01\n",
      "   6.79431418e-01  4.02469572e-01  7.42313190e-01  8.52453495e-01\n",
      "   3.78080127e-01  2.90797093e-01  1.08560819e+00  3.65608839e-01\n",
      "   4.37611254e-01  7.33435134e-01  1.15976958e-02 -5.00019146e-01\n",
      "   1.06372486e-01  2.91027931e-01 -1.37127103e-01 -4.53949331e-01\n",
      "   6.29003590e-01  1.86457377e-01  4.65554626e-01 -9.71033090e-02\n",
      "   1.49853102e-01  5.55451082e-01  3.40235501e-01  9.30507795e-01\n",
      "  -6.50375348e-01 -2.16584216e-02  1.03947343e-01 -3.35732827e-01\n",
      "   6.71063377e-01  5.20910709e-01  5.07370240e-01  2.46295733e-01\n",
      "   5.20926750e-01  3.11251363e-01 -2.63424289e-01  3.39995075e-01\n",
      "  -2.83411635e-02 -5.84963357e-01 -1.83000376e-01  4.45039530e-01\n",
      "  -1.85180854e-01 -5.74102324e-01 -1.04609149e+00 -2.06070332e-01]]\n"
     ]
    }
   ],
   "source": [
    "print('Coefficients of all variables : ', model.coef_)"
   ]
  },
  {
   "cell_type": "markdown",
   "id": "adolescent-front",
   "metadata": {
    "id": "aO9D8_7IV__v",
    "papermill": {
     "duration": 0.068871,
     "end_time": "2021-05-18T19:49:05.874133",
     "exception": false,
     "start_time": "2021-05-18T19:49:05.805262",
     "status": "completed"
    },
    "tags": []
   },
   "source": [
    "##Intercept of Model"
   ]
  },
  {
   "cell_type": "code",
   "execution_count": 42,
   "id": "solved-distance",
   "metadata": {
    "execution": {
     "iopub.execute_input": "2021-05-18T19:49:06.035093Z",
     "iopub.status.busy": "2021-05-18T19:49:06.034380Z",
     "iopub.status.idle": "2021-05-18T19:49:06.038820Z",
     "shell.execute_reply": "2021-05-18T19:49:06.038150Z"
    },
    "id": "k4eqThKbh-NN",
    "outputId": "8683eee5-3d9c-42a4-87d8-875a59e79d63",
    "papermill": {
     "duration": 0.087045,
     "end_time": "2021-05-18T19:49:06.038975",
     "exception": false,
     "start_time": "2021-05-18T19:49:05.951930",
     "status": "completed"
    },
    "tags": []
   },
   "outputs": [
    {
     "name": "stdout",
     "output_type": "stream",
     "text": [
      "Intercept of the model :  [-3.95974509]\n"
     ]
    }
   ],
   "source": [
    "print('Intercept of the model : ', model.intercept_)"
   ]
  },
  {
   "cell_type": "markdown",
   "id": "unlike-hearing",
   "metadata": {
    "id": "x5xEpN_qWELj",
    "papermill": {
     "duration": 0.069322,
     "end_time": "2021-05-18T19:49:06.176608",
     "exception": false,
     "start_time": "2021-05-18T19:49:06.107286",
     "status": "completed"
    },
    "tags": []
   },
   "source": [
    "##Predicted Classes"
   ]
  },
  {
   "cell_type": "code",
   "execution_count": 43,
   "id": "muslim-alpha",
   "metadata": {
    "execution": {
     "iopub.execute_input": "2021-05-18T19:49:06.316376Z",
     "iopub.status.busy": "2021-05-18T19:49:06.315712Z",
     "iopub.status.idle": "2021-05-18T19:49:06.320381Z",
     "shell.execute_reply": "2021-05-18T19:49:06.320858Z"
    },
    "id": "tK5tMjKciSDa",
    "outputId": "ec50598d-6a23-4e29-f4df-dca3910ef7a7",
    "papermill": {
     "duration": 0.077156,
     "end_time": "2021-05-18T19:49:06.321055",
     "exception": false,
     "start_time": "2021-05-18T19:49:06.243899",
     "status": "completed"
    },
    "tags": []
   },
   "outputs": [
    {
     "name": "stdout",
     "output_type": "stream",
     "text": [
      "Predicted Classes are :  [0 1]\n"
     ]
    }
   ],
   "source": [
    "print('Predicted Classes are : ', model.classes_)"
   ]
  },
  {
   "cell_type": "code",
   "execution_count": 44,
   "id": "moral-grenada",
   "metadata": {
    "execution": {
     "iopub.execute_input": "2021-05-18T19:49:06.467842Z",
     "iopub.status.busy": "2021-05-18T19:49:06.466717Z",
     "iopub.status.idle": "2021-05-18T19:49:06.479693Z",
     "shell.execute_reply": "2021-05-18T19:49:06.478653Z"
    },
    "id": "A72KDu7XjCw3",
    "outputId": "d7f7ac30-9ec9-45b0-d939-1add7a3d4712",
    "papermill": {
     "duration": 0.09085,
     "end_time": "2021-05-18T19:49:06.479963",
     "exception": false,
     "start_time": "2021-05-18T19:49:06.389113",
     "status": "completed"
    },
    "tags": []
   },
   "outputs": [
    {
     "name": "stdout",
     "output_type": "stream",
     "text": [
      "Predicted probability on training dataset :  [[0.6888893  0.3111107 ]\n",
      " [0.64442252 0.35557748]\n",
      " [0.00352915 0.99647085]\n",
      " ...\n",
      " [0.28173868 0.71826132]\n",
      " [0.86435232 0.13564768]\n",
      " [0.8324381  0.1675619 ]]\n"
     ]
    }
   ],
   "source": [
    "print('Predicted probability on training dataset : ', model.predict_proba(train_X))"
   ]
  },
  {
   "cell_type": "code",
   "execution_count": 45,
   "id": "enabling-stamp",
   "metadata": {
    "execution": {
     "iopub.execute_input": "2021-05-18T19:49:06.672383Z",
     "iopub.status.busy": "2021-05-18T19:49:06.671669Z",
     "iopub.status.idle": "2021-05-18T19:49:06.678368Z",
     "shell.execute_reply": "2021-05-18T19:49:06.679720Z"
    },
    "id": "Cz29xtZ2jfu7",
    "outputId": "2eead1cc-2f20-4c10-f7a6-37d068a0f367",
    "papermill": {
     "duration": 0.084076,
     "end_time": "2021-05-18T19:49:06.680097",
     "exception": false,
     "start_time": "2021-05-18T19:49:06.596021",
     "status": "completed"
    },
    "tags": []
   },
   "outputs": [
    {
     "name": "stdout",
     "output_type": "stream",
     "text": [
      "Accuracy on Training Dataset :  0.8209515859766278\n"
     ]
    }
   ],
   "source": [
    "#Accuracy on Training Dataset\n",
    "print('Accuracy on Training Dataset : ', model.score(train_X, train_y))"
   ]
  },
  {
   "cell_type": "markdown",
   "id": "stable-audio",
   "metadata": {
    "id": "Wik2l23tXrHB",
    "papermill": {
     "duration": 0.069924,
     "end_time": "2021-05-18T19:49:06.868170",
     "exception": false,
     "start_time": "2021-05-18T19:49:06.798246",
     "status": "completed"
    },
    "tags": []
   },
   "source": [
    "##Confusion Matrix"
   ]
  },
  {
   "cell_type": "code",
   "execution_count": 46,
   "id": "compact-volunteer",
   "metadata": {
    "execution": {
     "iopub.execute_input": "2021-05-18T19:49:07.023286Z",
     "iopub.status.busy": "2021-05-18T19:49:07.022080Z",
     "iopub.status.idle": "2021-05-18T19:49:07.039060Z",
     "shell.execute_reply": "2021-05-18T19:49:07.040081Z"
    },
    "id": "OjloTt3Aj8AQ",
    "outputId": "e4446e42-fdbb-4f12-f58d-c8b5084b635a",
    "papermill": {
     "duration": 0.101487,
     "end_time": "2021-05-18T19:49:07.040405",
     "exception": false,
     "start_time": "2021-05-18T19:49:06.938918",
     "status": "completed"
    },
    "tags": []
   },
   "outputs": [
    {
     "data": {
      "text/plain": [
       "array([[1880,  255],\n",
       "       [ 369,  920]])"
      ]
     },
     "execution_count": 46,
     "metadata": {},
     "output_type": "execute_result"
    }
   ],
   "source": [
    "confusion_matrix(target, model.predict(New_dataF))"
   ]
  },
  {
   "cell_type": "markdown",
   "id": "smaller-farmer",
   "metadata": {
    "id": "_exMtIPJlaGT",
    "papermill": {
     "duration": 0.072592,
     "end_time": "2021-05-18T19:49:07.228069",
     "exception": false,
     "start_time": "2021-05-18T19:49:07.155477",
     "status": "completed"
    },
    "tags": []
   },
   "source": [
    "1. True negatives in the upper-left position\n",
    "2. False negatives in the lower-left position\n",
    "3. False positives in the upper-right position\n",
    "4. True positives in the lower-right position"
   ]
  },
  {
   "cell_type": "code",
   "execution_count": 47,
   "id": "speaking-tension",
   "metadata": {
    "execution": {
     "iopub.execute_input": "2021-05-18T19:49:07.409940Z",
     "iopub.status.busy": "2021-05-18T19:49:07.408741Z",
     "iopub.status.idle": "2021-05-18T19:49:07.579489Z",
     "shell.execute_reply": "2021-05-18T19:49:07.578914Z"
    },
    "id": "STVPVOFalCOc",
    "outputId": "b92245d9-7910-4329-e135-f8fed3bb2746",
    "papermill": {
     "duration": 0.266359,
     "end_time": "2021-05-18T19:49:07.579657",
     "exception": false,
     "start_time": "2021-05-18T19:49:07.313298",
     "status": "completed"
    },
    "tags": []
   },
   "outputs": [
    {
     "data": {
      "image/png": "[encoded data removed]",
      "text/plain": [
       "<Figure size 576x576 with 1 Axes>"
      ]
     },
     "metadata": {
      "needs_background": "light"
     },
     "output_type": "display_data"
    }
   ],
   "source": [
    "cm = confusion_matrix(target, model.predict(New_dataF))\n",
    "fig, ax = plt.subplots(figsize=(8, 8))\n",
    "ax.imshow(cm)\n",
    "ax.grid(False)\n",
    "ax.xaxis.set(ticks=(0, 1), ticklabels=('Predicted Non-Persistent', 'Predicted Persistent'))\n",
    "ax.yaxis.set(ticks=(0, 1), ticklabels=('Actual Non-Persistent', 'Actual Persistent'))\n",
    "ax.set_ylim(1.5, -0.5)\n",
    "for i in range(2):\n",
    "    for j in range(2):\n",
    "        ax.text(j, i, cm[i, j], ha='center', va='center', color='red')\n",
    "plt.show()"
   ]
  },
  {
   "cell_type": "markdown",
   "id": "preceding-senior",
   "metadata": {
    "id": "W29WRZnfXvps",
    "papermill": {
     "duration": 0.069441,
     "end_time": "2021-05-18T19:49:07.718776",
     "exception": false,
     "start_time": "2021-05-18T19:49:07.649335",
     "status": "completed"
    },
    "tags": []
   },
   "source": [
    "##Classification Report on Confusion Matrix"
   ]
  },
  {
   "cell_type": "code",
   "execution_count": 48,
   "id": "processed-ireland",
   "metadata": {
    "execution": {
     "iopub.execute_input": "2021-05-18T19:49:07.873262Z",
     "iopub.status.busy": "2021-05-18T19:49:07.872108Z",
     "iopub.status.idle": "2021-05-18T19:49:07.886239Z",
     "shell.execute_reply": "2021-05-18T19:49:07.887409Z"
    },
    "id": "4nRJIC_Pmnds",
    "outputId": "9c22fadb-bdac-4b01-c748-d0ff6ef54f9f",
    "papermill": {
     "duration": 0.099129,
     "end_time": "2021-05-18T19:49:07.887773",
     "exception": false,
     "start_time": "2021-05-18T19:49:07.788644",
     "status": "completed"
    },
    "tags": []
   },
   "outputs": [
    {
     "name": "stdout",
     "output_type": "stream",
     "text": [
      "              precision    recall  f1-score   support\n",
      "\n",
      "           0       0.84      0.88      0.86      2135\n",
      "           1       0.78      0.71      0.75      1289\n",
      "\n",
      "    accuracy                           0.82      3424\n",
      "   macro avg       0.81      0.80      0.80      3424\n",
      "weighted avg       0.82      0.82      0.82      3424\n",
      "\n"
     ]
    }
   ],
   "source": [
    "print(classification_report(target, model.predict(New_dataF)))"
   ]
  },
  {
   "cell_type": "markdown",
   "id": "genuine-schedule",
   "metadata": {
    "id": "KacA9gg9eAYz",
    "papermill": {
     "duration": 0.070859,
     "end_time": "2021-05-18T19:49:08.074842",
     "exception": false,
     "start_time": "2021-05-18T19:49:08.003983",
     "status": "completed"
    },
    "tags": []
   },
   "source": [
    "##Target Class\n",
    "Where:\\\n",
    "Class \"1\" is Persistent\\\n",
    "Class \"0\" is Non-Persistent"
   ]
  },
  {
   "cell_type": "markdown",
   "id": "processed-infrastructure",
   "metadata": {
    "papermill": {
     "duration": 0.070455,
     "end_time": "2021-05-18T19:49:08.217699",
     "exception": false,
     "start_time": "2021-05-18T19:49:08.147244",
     "status": "completed"
    },
    "tags": []
   },
   "source": [
    "**If you like this notebook then please upvote the notebook. It will motivate me to work more and more.**"
   ]
  },
  {
   "cell_type": "code",
   "execution_count": null,
   "id": "broadband-conservative",
   "metadata": {
    "id": "zSBbKAmBs5VL",
    "papermill": {
     "duration": 0.070132,
     "end_time": "2021-05-18T19:49:08.359471",
     "exception": false,
     "start_time": "2021-05-18T19:49:08.289339",
     "status": "completed"
    },
    "tags": []
   },
   "outputs": [],
   "source": []
  }
 ],
 "metadata": {
  "kernelspec": {
   "display_name": "Python 3",
   "language": "python",
   "name": "python3"
  },
  "language_info": {
   "codemirror_mode": {
    "name": "ipython",
    "version": 3
   },
   "file_extension": ".py",
   "mimetype": "text/x-python",
   "name": "python",
   "nbconvert_exporter": "python",
   "pygments_lexer": "ipython3",
   "version": "3.12.3"
  },
  "papermill": {
   "default_parameters": {},
   "duration": 29.935151,
   "end_time": "2021-05-18T19:49:09.443028",
   "environment_variables": {},
   "exception": null,
   "input_path": "__notebook__.ipynb",
   "output_path": "__notebook__.ipynb",
   "parameters": {},
   "start_time": "2021-05-18T19:48:39.507877",
   "version": "2.3.3"
  }
 },
 "nbformat": 4,
 "nbformat_minor": 5
}
